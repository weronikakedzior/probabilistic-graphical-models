{
 "cells": [
  {
   "cell_type": "markdown",
   "metadata": {},
   "source": [
    "Przed oddaniem zadania upewnij się, że wszystko działa poprawnie.\n",
    "**Uruchom ponownie kernel** (z paska menu: Kernel$\\rightarrow$Restart) a następnie\n",
    "**wykonaj wszystkie komórki** (z paska menu: Cell$\\rightarrow$Run All).\n",
    "\n",
    "Upewnij się, że wypełniłeś wszystkie pola `TU WPISZ KOD` lub `TU WPISZ ODPOWIEDŹ`, oraz\n",
    "że podałeś swoje imię i nazwisko poniżej:"
   ]
  },
  {
   "cell_type": "code",
   "execution_count": 1,
   "metadata": {},
   "outputs": [],
   "source": [
    "NAME = \"Weronika Pawlak\""
   ]
  },
  {
   "cell_type": "markdown",
   "metadata": {},
   "source": [
    "---"
   ]
  },
  {
   "cell_type": "code",
   "execution_count": 2,
   "metadata": {},
   "outputs": [],
   "source": [
    "import pandas as pd\n",
    "\n",
    "from sklearn.preprocessing import OneHotEncoder, StandardScaler\n",
    "from sklearn import linear_model\n",
    "\n",
    "import pickle\n",
    "import numpy as np\n",
    "\n",
    "from matplotlib import pyplot as plt\n",
    "plt.rcParams[\"animation.html\"] = \"jshtml\" \n",
    "%matplotlib inline\n",
    "from pprint import pprint"
   ]
  },
  {
   "cell_type": "code",
   "execution_count": 3,
   "metadata": {},
   "outputs": [],
   "source": [
    "with open('./data/fish-preprocessed.pkl', 'rb') as f:\n",
    "    data = pickle.load(f)\n",
    "train_data = data['train']\n",
    "test_data = data['test']"
   ]
  },
  {
   "cell_type": "markdown",
   "metadata": {},
   "source": [
    "# Zmienne kategoryczne w modelach liniowych"
   ]
  },
  {
   "cell_type": "markdown",
   "metadata": {},
   "source": [
    "Podejść do \"wektoryzacji\" zmiennych kategorycznych jest wiele i ich stosowanie jest niezbędne w przypadku większości modeli. W przypadku modeli liniowych dobór odpowiedniego podejścia jest jednak wyjątkowo istotny, ponieważ **model nie odtworzy ukrytych zależności** - w przeciwieństwie do np. sieci neuronowych (przynajmniej w teorii). Oto wybór możliwości:\n",
    "1. Osobny model dla każdej z kategorii\n",
    "\n",
    "   Mało wydajne, ponieważ zwiększamy liczbę stopni swobody (VC-dimensiom, klątwa wymiarowości itp) przy tej samej liczbie danych. Ale jeżeli każda z klas posiada inny proces generujący, to po co łączyć w jeden model?\n",
    "\n",
    "2. Utworzenie $k$ bądź $k - 1$ nowych zmiennych niezależnych (gdzie $k$ to liczba kategorii)\n",
    "   \n",
    "   Popularne i łatwe w użyciu podejście, nie wymaga zrozumienia zbioru danych, daje dobre wyniki dla modeli nie-liniowych. Można przeprowadzić na wiele sposobów - [https://stats.idre.ucla.edu/spss/faq/coding-systems-for-categorical-variables-in-regression-analysis-2/](https://stats.idre.ucla.edu/spss/faq/coding-systems-for-categorical-variables-in-regression-analysis-2/)\n",
    "\n",
    "3. Warunkowanie istniejących zmiennych niezależnych\n",
    "\n",
    "   Wymaga zrozumienia zbioru danych (dla jakich zmiennych niezależnych wpływ na zmienną zależną może być różny zależnie od kategorii), ale dla modeli liniowych będzie dawać najlepsze wyniki (jeżeli przeprowadzone prawidłowo = zgodnie z procesem generatywnym/z jego najlepszą liniową aproksymacją).\n",
    "   \n",
    "   Poza trudnością w identyfikacji warunkowania, pojawiają się również trudności implementacyjne. Ręczne przygotowanie zbioru danych w ten sposób jest czasochłonne i łatwo o błąd. Bardzo dobrym rozwiązaniem jest podejście z pakietu R, tzw. [formula function](https://www.rdocumentation.org/packages/stats/versions/3.6.2/topics/formula), którą posiada bardzo funkcjonalną składnię. W Pythonie z tej samej składni można skorzystać w pakiecie [statsmodels](https://www.statsmodels.org/stable/index.html)."
   ]
  },
  {
   "cell_type": "markdown",
   "metadata": {},
   "source": [
    "Zastosujemy rozwiązanie nr 2. w wersji **dummy / one-hot / one-of-K** coding, czyli każda z klas będziała miała swoją kolumnę wypełnioną zerami i jedynkami. Dla jednej z klas (klasy *referencyjnej*) moglibyśmy nie tworzyć kolumny, ponieważ wyraz wolny \"przejąłby\" referencyjny wpływ na zmienną zależną. Gdybyśmy stosowali model inny niż liniowy z wyrazem wolnym takie podejście mogłoby się nie sprawdzić. Wyraz wolny, wkrtóce zniknie z naszego modelu liniowego, więc pozostawiamy $k$ kolumn."
   ]
  },
  {
   "cell_type": "code",
   "execution_count": null,
   "metadata": {},
   "outputs": [],
   "source": [
    "one_hot = OneHotEncoder(drop=None, sparse=False)\n",
    "train_data = train_data.join(pd.DataFrame(\n",
    "    one_hot.fit_transform(train_data['Species'].to_numpy().reshape(-1, 1)),\n",
    "    columns=[f'species_{i}' for i in range(7)],\n",
    "    index=train_data.index,\n",
    "))\n",
    "train_data"
   ]
  },
  {
   "cell_type": "markdown",
   "metadata": {},
   "source": [
    "A teraz, wcześnie dopasowany na danych treningowych transformator należy zaaplikować na danych testowych:"
   ]
  },
  {
   "cell_type": "code",
   "execution_count": 5,
   "metadata": {},
   "outputs": [],
   "source": [
    "test_data = test_data.join(pd.DataFrame(\n",
    "    one_hot.transform(test_data['Species'].to_numpy().reshape(-1, 1)),\n",
    "    columns=[f'species_{i}' for i in range(7)],\n",
    "    index=test_data.index,\n",
    "))"
   ]
  },
  {
   "cell_type": "markdown",
   "metadata": {},
   "source": [
    "Oryginalną kolumnę zostawiamy w DataFrameach, ponieważ ułatwi nam to wizualizację."
   ]
  },
  {
   "cell_type": "markdown",
   "metadata": {},
   "source": [
    "# Ridge Regression\n",
    "\n",
    "Model:\n",
    "$$ y_i = \\pmb{x}_i \\pmb{\\beta} $$\n",
    "\n",
    "Regularyzacja $L_2$:\n",
    "\n",
    "$$ \\mathcal{R}(\\pmb{\\beta}) = \\frac{\\lambda}{2} \\left\\|\\pmb{\\beta}\\right\\|_2^2,$$\n",
    "gdzie $\\lambda$ to parametr metody regulujący siłę kary za złożoność.\n",
    "\n",
    "Funkcja kosztu:\n",
    "$$ S(\\pmb{\\beta}) = \\frac{1}{2} \\sum_{i=1}^N \\left| y_i - (\\beta_0 + \\pmb{x}_i \\pmb{\\beta}) \\right|^2 + \\frac{\\lambda}{2} \\left\\|\\pmb{\\beta}\\right\\|^2, $$\n",
    "gdzie macierz $X$ nie posiada tutaj dodatkowej kolumny $1$ odpowiadającej za wyraz wolny. Jest on traktowany osobno, ponieważ nie chcemy na niego zakładać regularyzacji.\n",
    "\n",
    "Estymacja:\n",
    "1. Analityczna\n",
    "   Najpierw musimy dopasować wyraz wolny $\\beta_0$. Ma być to wartość o najmniejszym błędzie średniokwadratowym, gdyby wszystkie cechy miały wartość 0.\n",
    "   \n",
    "   $$ \\hat{\\beta}_0 = \\frac{1}{N} \\sum_{i=1}^N y_i $$\n",
    "  \n",
    "   Następnie wyraz wolny należy odjąć od zmiennej niezależnej co daje następującą funkcję kosztu:\n",
    "   $$ S(\\pmb{\\beta}) = \\frac{1}{2} \\sum_{i=1}^N \\left| (y_i - \\hat{\\beta}_0) - \\pmb{x}_i \\pmb{\\beta}) \\right|^2 + \\frac{\\lambda}{2} \\left\\|\\pmb{\\beta}\\right\\|^2, $$\n",
    "   którą można różniczkować względem parametrów $\\pmb{\\beta}$ i przyrównać do $0$. Dostajemy następujący estymator\n",
    "   $$ \\hat{\\pmb{\\beta}} = (\\lambda I_N + X^\\intercal X)^{-1}X^\\intercal (Y - \\hat{\\beta}_0) $$\n",
    "2. Iteracyjna - Gradient Descent\n",
    "\n",
    "   W tym podejściu do $S(\\pmb{\\beta})$ podchodzi się jak do **funkcji kosztu** nie wchodząc w jej interpretację i własności. Jest to problem z zakresu **Convex Optimization**."
   ]
  },
  {
   "cell_type": "markdown",
   "metadata": {},
   "source": [
    "# Standaryzacja zmiennych\n",
    "Standaryzowania zmiennych dokonuje się poprzez odjęcie średniej i przeskalowanie do jednostkowej wariancji.\n",
    "\n",
    "Dla próbki $x$ ustandaryzowana wartość $z$ obliczana jest w następujący sposób:\n",
    "\n",
    "$$ z = \\frac{x - u}{s},$$\n",
    "\n",
    "gdzie $u$ i $s$ to odpowiednio średnia i odchylenie standardowe populacji."
   ]
  },
  {
   "cell_type": "markdown",
   "metadata": {},
   "source": [
    "Dobrą praktyką jest standaryzować (ewentualnie skalować do przedziału) zmienne niezależne oraz zależne przed stosowaniem modeli. Dotychczas tego nie robiliśmy, ponieważ\n",
    "\n",
    "- dla modelu regresji liniowej skala zmiennych nie ma znaczenia\n",
    "- mieliśmy jeden model.\n",
    "\n",
    "W poprzednim zeszycie wspomniane zostało, że przy regularyzowanej regresji skalowanie jest niezbędne - skoro nakładamy taką samą karę na wszystkie parametry, to powinny one mieć wpływ w tej same jednostce na wszystkie zmienne niezależne.\n",
    "\n",
    "Ponadto dla ustandaryzowanych zmiennych łatwiej jest porównywać modele między sobą, a także dobierać rozkłady prior dla parametrów, a tym będziemy się zajmować w tym zeszycie.\n",
    "\n",
    "Należy jednak pamiętać, że współczynniki dla ustandaryzowanych zmiennych są cięższe do interpretacji. Dlatego wiele pakietów statystycznych domyślnie dokonuje standaryzacji i raportuje parametry dla ustandaryzowanych zmiennych, a także przeskalowane do oryginalnych rozkładów cech."
   ]
  },
  {
   "cell_type": "code",
   "execution_count": 6,
   "metadata": {},
   "outputs": [
    {
     "data": {
      "text/plain": [
       "Index(['Species', 'Weight', 'Length3', 'Height', 'Width', 'intercept',\n",
       "       'species_0', 'species_1', 'species_2', 'species_3', 'species_4',\n",
       "       'species_5', 'species_6'],\n",
       "      dtype='object')"
      ]
     },
     "execution_count": 6,
     "metadata": {},
     "output_type": "execute_result"
    }
   ],
   "source": [
    "train_data.columns"
   ]
  },
  {
   "cell_type": "markdown",
   "metadata": {},
   "source": [
    "W tym zeszycie `intercept` nie będzie traktowany, jak kolejna z cech. Nie chcemy go także standaryzować - otrzymalibyśmy wektor zer.\n",
    "\n",
    "Pewien niepokój powinno budzi standaryzowanie zmiennych powstałych w ramach *one-hotowania*. Pomimo, że mają wartości liczbowe, to ciężko o nich myśleć jako o zmiennych ciągłych. Z drugiej strony chcemy zachować tą samą skalę dla wszystkich zmiennych w celu regularyzacji. Nie istnieje jednoznacza odpowiedź na to pytanie. Większość debaty w Internecie sprowadza się do\n",
    "> sklearn zwróci błąd jeżeli wywołamy `StandardScaler` przed `OneHotEncoder`\n",
    "\n",
    "Należy pamiętać, że jesteśmy teraz poza światem założeń, więc najlepiej zewaluować oba podejścia w różnych warunkach i na tej podstawie wyciągnąć wnioski."
   ]
  },
  {
   "cell_type": "code",
   "execution_count": 7,
   "metadata": {},
   "outputs": [],
   "source": [
    "features = [\n",
    "    'Length3',\n",
    "    'Height',\n",
    "    'Width',\n",
    "    'species_0',\n",
    "    'species_1',\n",
    "    'species_2',\n",
    "    'species_3',\n",
    "    'species_4',\n",
    "    'species_5',\n",
    "    'species_6',\n",
    "]\n",
    "\n",
    "target = 'Weight'"
   ]
  },
  {
   "cell_type": "code",
   "execution_count": 8,
   "metadata": {},
   "outputs": [],
   "source": [
    "scaler = StandardScaler()\n",
    "train_data[features] = scaler.fit_transform(train_data[features])\n",
    "test_data[features] = scaler.transform(test_data[features])"
   ]
  },
  {
   "cell_type": "markdown",
   "metadata": {},
   "source": [
    "Zastosujemy implementację Ridge Regression z pakietu `sklearn`, która estymuje wyraz wolny w pkt 1. powyżej, czyli nie regularyzuje go. Posiada ona następujące solvery ([dokumentacja](https://scikit-learn.org/stable/modules/generated/sklearn.linear_model.Ridge.html)):\n",
    "\n",
    ">   - ‘auto’ chooses the solver automatically based on the type of data.\n",
    "    ‘svd’ uses a Singular Value Decomposition of X to compute the Ridge coefficients. More stable for singular matrices than ‘cholesky’.\n",
    ">     \n",
    ">   - ‘cholesky’ uses the standard scipy.linalg.solve function to obtain a closed-form solution.\n",
    ">\n",
    ">   - ‘sparse_cg’ uses the conjugate gradient solver as found in scipy.sparse.linalg.cg. As an iterative algorithm, this solver is more appropriate than ‘cholesky’ for large-scale data (possibility to set tol and max_iter).\n",
    ">\n",
    ">   - ‘lsqr’ uses the dedicated regularized least-squares routine scipy.sparse.linalg.lsqr. It is the fastest and uses an iterative procedure.\n",
    ">\n",
    ">   - ‘sag’ uses a Stochastic Average Gradient descent, and ‘saga’ uses its improved, unbiased version named SAGA. Both methods also use an iterative procedure, and are often faster than other solvers when both n_samples and n_features are large. Note that ‘sag’ and ‘saga’ fast convergence is only guaranteed on features with approximately the same scale. You can preprocess the data with a scaler from sklearn.preprocessing.\n",
    "\n",
    "Wśród nich znajdziemy \"analityczne\" rozwiązanie w oparciu o operacje algebraiczne, a także interacyjne.\n",
    "\n",
    "$\\lambda$ nazywa się tutaj `alpha` :)"
   ]
  },
  {
   "cell_type": "code",
   "execution_count": 9,
   "metadata": {},
   "outputs": [
    {
     "name": "stdout",
     "output_type": "stream",
     "text": [
      "12.245810553153966\n",
      "{'Height': 1.126378270967733,\n",
      " 'Length3': 2.5508051407598047,\n",
      " 'Width': 1.2622090404664514,\n",
      " 'species_0': -0.1834058623148497,\n",
      " 'species_1': 0.08239548098583602,\n",
      " 'species_2': 0.2285228104549193,\n",
      " 'species_3': -0.07866971523456365,\n",
      " 'species_4': 0.06262764460616166,\n",
      " 'species_5': -0.257655435861526,\n",
      " 'species_6': 0.12506067436832208}\n"
     ]
    }
   ],
   "source": [
    "ridge_regression = linear_model.Ridge(\n",
    "    alpha=1.0,\n",
    "    fit_intercept=True,\n",
    "    normalize=False\n",
    ")\n",
    "\n",
    "ridge_regression.fit(train_data[features], train_data[target])\n",
    "print(ridge_regression.intercept_) # nie bedzie sie zmieniac wraz ze zmiana alpha\n",
    "pprint(dict(zip(features, ridge_regression.coef_))) # gdy damy nieracjonalnie duze alpha to beda same zera"
   ]
  },
  {
   "cell_type": "code",
   "execution_count": 10,
   "metadata": {},
   "outputs": [
    {
     "data": {
      "text/plain": [
       "0.9907396268991248"
      ]
     },
     "execution_count": 10,
     "metadata": {},
     "output_type": "execute_result"
    }
   ],
   "source": [
    "ridge_regression.score(test_data[features], test_data[target])"
   ]
  },
  {
   "cell_type": "markdown",
   "metadata": {},
   "source": [
    "# Od regularyzacji do Bayesian Linear Regression"
   ]
  },
  {
   "cell_type": "markdown",
   "metadata": {},
   "source": [
    "(Zakładamy tutaj, że mamy już estymator wyrazu wolnego $\\hat{\\beta}_0$)\n",
    "\n",
    "Przypomnijmy, że regresja liniowa to\n",
    "$$ (y_i - \\hat{\\beta}_0) = \\pmb{x}_i \\pmb{\\beta} + \\epsilon_i, $$\n",
    "gdzie zakładamy $\\epsilon_i \\sim \\mathcal{N}(0, \\sigma^2)$. Czyli równoważnie możemy zapisać ten model jako:\n",
    "$$ (y_i - \\hat{\\beta}_0) | \\pmb{x_i} \\sim \\mathcal{N}(\\pmb{x}_i \\pmb{\\beta}, \\sigma^2). $$\n",
    "\n",
    "Log-likelihood takiego modelu to:\n",
    "\n",
    "$$ \\log p(D|\\pmb{\\beta}) = \\frac{1}{N} \\sum_{i=1}^N \\log \\left[ \\frac{1}{\\sqrt{2 \\pi}\\sigma}\\exp \\left( - \\frac{((y_i - \\hat{\\beta}_0) - \\pmb{x}_i \\pmb{\\beta})^2}{2 \\sigma^2} \\right)\\right] = \\text{const} - \\frac{1}{2N\\sigma^2}\\sum_{i=1}^N \\left| (y_i - \\hat{\\beta}_0) - \\pmb{x}_i \\pmb{\\beta}) \\right|^2 $$\n",
    "\n",
    "Gdy spojrzymy na Ridge Regression od strony MAP (nawiązanie do ostatnich zajęć)\n",
    "$$ \\arg\\max_{\\pmb{\\beta}} \\log p(\\pmb{\\beta}| D) = \\arg\\max_{\\pmb{\\beta}} [ \\log p(\\pmb{\\beta}) + \\log p (D | \\pmb{\\beta})], $$\n",
    "to okazuje się, że Ridge Regression to probabilistyczny model ze standardowym Gaussowskim priorem na wagach.\n",
    "\n",
    "Niech $\\pmb{\\beta} \\sim \\mathcal{N}(\\pmb{m}, V)$:\n",
    "$$ \\log p(\\pmb{\\beta}) = - \\frac{1}{2} (\\pmb{\\beta} - \\pmb{m})^\\intercal V^{-1} (\\pmb{\\beta} - \\pmb{m}) + \\text{constant},$$\n",
    "gdy $\\pmb{m}=0$ i $V = I_{m}$ to\n",
    "$$ \\log p(\\pmb{\\beta}) = - \\frac{1}{2} \\|\\pmb{\\beta}\\|_2^2 + \\text{constant},$$\n",
    "czyli otrzymaliśmy Ridge Regression!"
   ]
  },
  {
   "cell_type": "markdown",
   "metadata": {},
   "source": [
    "# Bayesian Linear Regression"
   ]
  },
  {
   "cell_type": "markdown",
   "metadata": {},
   "source": [
    "Mamy zatem taki sam model, jak w przypadku Linear Regression, ale dla parametrów wybieramy rozkład prior. Na początek załóżmy, że wariancja błędu jest znana i skupmy się współczynnikach. Likelihood modelu wyrażony jest w następujący sposób\n",
    "$$ p(Y|X, \\pmb{\\beta}, \\beta_0, \\sigma^2) = \\mathcal{N}(Y | \\beta_0 + X \\pmb{\\beta}, \\sigma^2 \\mathrm{I}_N) \\propto \\exp \\left(- \\frac{1}{2\\sigma^2} (Y - \\beta_0 \\pmb{1}_N - X \\pmb{\\beta})^\\intercal (Y - \\beta_0 \\pmb{1}_N - X \\pmb{\\beta}) \\right) ,\\tag{1}$$\n",
    "gdzie przez $\\mathcal{N}(Y | \\beta_0 + X \\pmb{\\beta}, \\sigma^2 \\mathrm{I}_N)$ oznaczamy prawdopobieństwem obserwacji $Y$ przy rozkładzie normalnym o parametrach $(\\beta_0 + X \\pmb{\\beta}, \\sigma^2 \\mathrm{I}_N)$.\n",
    "\n",
    "Na parametr $\\beta_0$ (wyraz wolny) zakładamy nieinformatywny prior, czyli jego estymacja sprowadza się do MLE i tak jak wcześniej \n",
    "$$ \\hat{\\beta}_0 = \\frac{1}{N} \\sum_{i=1}^N y_i = \\bar{Y}.$$\n",
    "Dla ułatwienia notacji będziemy zakładać, że $Y$ zostało wycentrowane (wtedy możemy pominąć wyraz wolny), zatem\n",
    "$$ Y \\leftarrow Y - \\bar{Y}.$$\n",
    "\n",
    "Wyśrodkujmy zmienną niezależną w naszym zbiorze danych."
   ]
  },
  {
   "cell_type": "code",
   "execution_count": 11,
   "metadata": {},
   "outputs": [],
   "source": [
    "y_mean = train_data[target].mean()\n",
    "train_data[target] = train_data[target] - y_mean\n",
    "test_data[target] = test_data[target] - y_mean"
   ]
  },
  {
   "cell_type": "markdown",
   "metadata": {},
   "source": [
    "Zatem $(1)$ upraszacza się do\n",
    "$$ p(Y|X, \\pmb{\\beta}, \\sigma^2) \\propto \\exp \\left(- \\frac{1}{2\\sigma^2} (Y - X \\pmb{\\beta})^\\intercal (Y - X \\pmb{\\beta}) \\right)$$\n",
    "które w dalszym ciągu jest Gaussianem, więc rozkład sprzężony to również Gaussian, oznaczmy go w następujący sposób\n",
    "$$ p(\\pmb{\\beta}) = \\mathcal{N}(\\pmb{\\beta} | \\pmb{\\beta}_0, \\pmb{V}_0)$$\n",
    "\n",
    "Wtedy posterior obliczamy jako\n",
    "$$ p(\\pmb{\\beta}| X, Y, \\sigma^2) = \\mathcal{N}(\\pmb{\\beta} | \\pmb{\\beta}_0, \\pmb{V}_0) \\mathcal{N}(Y | X\\pmb{\\beta}_0, \\sigma^2 \\mathrm{I}_N)  = \\mathcal{N}(\\pmb{\\beta} | \\pmb{\\beta}_N, \\pmb{V}_N),\\tag{2}$$\n",
    "gdzie\n",
    "$$ \\pmb{\\beta}_N = \\pmb{V}_N \\pmb{V}_0^{-1} \\pmb{\\beta}_0+\\frac{1}{\\sigma^2}\\pmb{V}_N X^\\intercal Y $$ \n",
    "$$ \\pmb{V}_N = \\sigma^2 (\\sigma^2 \\pmb{V}_0^{-1} + X^\\intercal X)^{-1} $$\n",
    "$$ \\pmb{V}_N^{-1} = \\pmb{V}_0^{-1} + \\frac{1}{\\sigma^2} X^\\intercal X $$\n",
    "\n",
    "Skąd to się wzięło? Murphy:eq4.125, Bishop:eq2.116\n",
    "\n",
    "- Jeżeli $X$ jest ustandaryzowany, to rozsądnym jest $\\pmb{\\beta}_0 = \\pmb{0}$\n",
    "- Jeżeli na tym etapie chcemy przestać być \"Bayesowscy\", to możemy zrobić MAP - tutaj znamy pełen rozkład (bo Gaussian), więc bierzemy modę (która równa jest średniej dla tego rozkładu)\n",
    "\n",
    "Ale my nie chcemy opuszczać \"Bayesowskiej\" drogi i chcemy doprowadzić do znalezienia rozkładu predykcyjnego (ang. *predictive distribution*). Możemy tak zrobić, ponieważ znamy pełen posterior, a nie tylko funkcję do niego wprost proporcjonalną.\n",
    "\n",
    "Przez $\\mathcal{D}=(X, Y)$ oznaczmy dotychczasowy zbiór treningowy, składający się z $N$ par. Chcemy znaleźć rozkład (predykcyjny) $y$ dla nowej próbki $\\pmb{x}$. W ogólność chcemy wykonać następującą operację\n",
    "$$ p(y|\\pmb{x}, \\mathcal{D}) =  \\int p(y|\\pmb{x}, \\pmb{\\beta}) p(\\pmb{\\beta}|\\mathcal{D}) \\mathrm{d} \\pmb{\\beta},$$\n",
    "gdzie $p(\\pmb{\\beta}|\\mathcal{D})$ to posterior (policzony na bazie priora i likelihoodu). W naszym wypadku jest dodatkowo sparametryzowany przez $\\sigma^2$.\n",
    "\n",
    "Zatem finalnie\n",
    "\n",
    "$$ p(y|\\pmb{x}, \\mathcal{D}, \\sigma^2) =  \\int \\mathcal{N}(y | \\pmb{x}\\pmb{\\beta}, \\sigma^2) \\mathcal{N}(\\pmb{\\beta} | \\pmb{\\beta}_N, \\pmb{V}_N) \\mathrm{d} \\pmb{\\beta} = \\mathcal{N}\\left(y | x\\pmb{\\beta}_N, \\sigma^2_N(\\pmb{x})\\right),\\tag{3}$$\n",
    "gdzie\n",
    "$$\\sigma^2_N(\\pmb{x}) = \\sigma^2 + \\pmb{x}\\pmb{V}_N\\pmb{x} $$\n",
    "\n",
    "Warto zwrócić uwagę na $\\sigma^2_N(\\pmb{x})$, w której założona wariancja błędu jest powiększona o dodatkowy czynnik, który dodaje wariancji od posteriora wektora wag.\n",
    "\n",
    "W przypadku probabilistycznego modelu nie mówimy już o przedziałach ufności i przedziałach predykcyjnych, tylko o **credible intervals** wynikających wprost z rozkładu predykcyjnego.\n",
    "\n",
    "UWAGA 1: Taki model jest idealny dla uczenia przyrostowego. Dobry opis Bishop:p.154-156\n",
    "\n",
    "UWAGA 2: Możemy znaleźć posterior dla modelu z priorem na $\\sigma^2$ -> Murphy:p.236 *rozdział 7.6.3 Bayesian inference when $\\sigma^2$ is unknown*"
   ]
  },
  {
   "cell_type": "markdown",
   "metadata": {},
   "source": [
    "# Empirical Bayes / Evidence Procedure\n",
    "W powyższych rozważaniach mamy dwa hiper-parametry:\n",
    "- $\\sigma^2$ - wariancja błędu; częściej mówi się o parametrze **precision** $\\lambda=1/\\sigma^2$\n",
    "- $\\pmb{V}_0$ - macierz kowariancji dla priora na współczynnikach; najczęściej zakłamy sferyczny prior, więc $\\pmb{V}_0 = \\alpha^{-1} \\mathrm{I}_N$ skupimy się na kolejnym precision $\\alpha$\n",
    "\n",
    "Oznaczmy $\\eta= (\\alpha, \\lambda)$.\n",
    "\n",
    "Popularnym rozwiązaniem tego problemu byłby Randomized Grid K-CV Search, gdzie dla losowego podzbioru konfiguracji z siatki przeprowadzona byłaby K-cross walidacja.\n",
    "\n",
    "Alternatywą jest EB. Aby być w pełni Bayesowscy powinniśmy nałożyć **hyperpriors** na $\\eta$. Wtedy możemy obliczyć posterior $\\eta$ i rozkład predykcyjny ma następującą postać:\n",
    "$$ p(y|\\pmb{x}, \\mathcal{D}) =  \\int p(y|\\pmb{x}, \\pmb{\\beta}) p(\\pmb{\\beta}|\\mathcal{D}, \\alpha, \\lambda) p(\\alpha, \\lambda|\\mathcal{D}) \\mathrm{d} \\pmb{\\beta} \\mathrm{d} \\alpha \\mathrm{d} \\lambda$$\n",
    "\n",
    "(Hiper-priory też mogą mieć swoje parametry i tak dalej...) Wycałkowanie $\\alpha, \\lambda$ jest analitycznie niemożliwe, obliczeniowo również. Pierwsze rozwiązanie to MAP - jeżeli posterior jest wyraźnie skupiony wokół wartości $\\hat{\\eta}$, to wybieramy ją i stosujemy jako *plug-in estimate*. By zaproponować alternatywę przypomnijmy jaką postać ma posterior\n",
    "$$ p(\\alpha, \\lambda | \\mathcal{D}) \\propto p(\\mathcal{D}|\\alpha, \\lambda) p(\\alpha, \\lambda) $$\n",
    "Jeżeli prior jest \"płaski\" i nie daje posteriora o skupionej masie, możemy zwrócić się ku MLE na likelihoodzie $p(\\mathcal{D}|\\alpha, \\lambda)$. W obu przypadkach należy obliczyć posterior\n",
    "$$p(\\mathcal{D}|\\alpha, \\lambda) = \\int p(\\mathcal{D}|\\pmb{\\beta}, \\lambda) p(\\pmb{\\beta}|\\alpha) \\mathrm{d} \\pmb{\\beta},$$\n",
    "a w przypadku MLE także przeprowadzić jego maksymalizację (opiera się na **Expectation Maximization**, które omówione zostanie w dalszej części semestru). Obie te rzeczy są dobrze opisane w Bishop:p.166-169 (UWAGA - inna notacja), rozdziały:\n",
    "- *3.5.1 Evaluation of the evidence function*\n",
    "- *3.5.2 Maximizing the evidence function*\n",
    "\n",
    "UWAGA: W tym przypadku *online learning* nie jest wprost aplikowalny - \"empiryczna część\" potrzebuje próbki by dokonać maksymalizacji (posteriora bądź evidence). Można spróbować Expectation Maximization w konfiguracji batchowej - ciekawy temat na projekt."
   ]
  },
  {
   "cell_type": "code",
   "execution_count": 12,
   "metadata": {},
   "outputs": [],
   "source": [
    "from matplotlib.animation import FuncAnimation\n",
    "\n",
    "class UpdateBayesianLinearRegression:\n",
    "    '''Pomocnicza klasa do inkrementalnego uczenia'''\n",
    "    def __init__(\n",
    "        self,\n",
    "        ax,\n",
    "        model,\n",
    "        X_test_with_cat,\n",
    "        y_test,\n",
    "        x_idx,\n",
    "        x_label,\n",
    "        y_label,\n",
    "        category_idx=None,\n",
    "        interval=0.95\n",
    "    ):\n",
    "        self.ax = ax\n",
    "        self.model = model\n",
    "        self.x_idx = x_idx\n",
    "        \n",
    "        self.interval = interval\n",
    "        \n",
    "        self.mean, = ax.plot([], [], color=\"red\", label=\"Mean output\")\n",
    "        self.credible_interval = ax.fill_between(\n",
    "            [],\n",
    "            [],\n",
    "            [],\n",
    "            color='cornflowerblue',\n",
    "            alpha=0.5,\n",
    "            label=f\"Credible Interval\"\n",
    "        )\n",
    "        self.num_samples = ax.text(0.5, 1, '', fontsize=15, horizontalalignment='right',\n",
    "                                   verticalalignment='bottom', transform=ax.transAxes)\n",
    "        self.ratio_in_interval = ax.text(1, 0, '', fontsize=15, horizontalalignment='right',\n",
    "                           verticalalignment='bottom', transform=ax.transAxes)\n",
    "        \n",
    "        if category_idx is not None:\n",
    "            for cat in np.unique(X_test_with_cat[:, category_idx]):\n",
    "                mask = X_test_with_cat[:, category_idx] == cat\n",
    "                self.ax.scatter(\n",
    "                    X_test_with_cat[mask, x_idx], y_test[mask],\n",
    "                    marker='+', s=100,\n",
    "                    alpha=1,\n",
    "                    label=cat\n",
    "                )\n",
    "        else:\n",
    "            self.ax.scatter(\n",
    "                X_test_with_cat[:, x_idx], y_test,\n",
    "                marker='+', s=100,\n",
    "                alpha=1,\n",
    "            )\n",
    "        \n",
    "        # Set up plot parameters\n",
    "        self.ax.set_xlim(\n",
    "            np.min(X_test_with_cat[:, x_idx])-0.2,\n",
    "            np.max(X_test_with_cat[:, x_idx])+0.2\n",
    "        )\n",
    "        self.ax.set_xlabel(x_label)\n",
    "        self.ax.set_ylabel(y_label)\n",
    "        \n",
    "        # Set up legend\n",
    "        handles, labels = self.ax.get_legend_handles_labels()\n",
    "        fig.legend(handles[:2], labels[:2], loc='upper right')\n",
    "        if category_idx is not None:\n",
    "            fig.legend(handles[2:], labels[2:], loc='lower right', title='Category')\n",
    "        \n",
    "    \n",
    "    def model_fit(self, i, X_train, y_train):\n",
    "        self.model.fit(X_train[i-1, :], y_train[i-1])\n",
    "\n",
    "    def __call__(self, i, X_train, y_train, X_test, y_test):\n",
    "        \n",
    "        # This way the plot can continuously run and we just keep\n",
    "        # watching new realizations of the process\n",
    "        if i != 0:\n",
    "            self.model_fit(i, X_train, y_train)\n",
    "\n",
    "        predictive = self.model.predict(X_test)\n",
    "        predictive_mean = predictive.mean()\n",
    "        lower_interval, upper_interval = predictive.interval(self.interval)\n",
    "        ci_ratio = np.sum(\n",
    "            (lower_interval <= y_test) &\n",
    "            (y_test <= upper_interval)\n",
    "        ) / len(y_test)\n",
    "        \n",
    "        self.ax.set_ylim(\n",
    "            min(np.min(lower_interval), np.min(y_test))-0.5,\n",
    "            max(np.max(upper_interval), np.max(y_test))+0.5,\n",
    "        )\n",
    "        \n",
    "        \n",
    "        self.credible_interval.remove()\n",
    "        self.credible_interval = self.ax.fill_between(\n",
    "            X_test[:, self.x_idx],\n",
    "            lower_interval,\n",
    "            upper_interval,\n",
    "            color='cornflowerblue',\n",
    "            alpha=0.5,\n",
    "            label=f\"Credible Interval\"\n",
    "        )\n",
    "        \n",
    "        self.mean.set_data(X_test[:, self.x_idx], predictive_mean)\n",
    "        self.num_samples.set_text(f'Number of train samples: {i}')\n",
    "        self.ratio_in_interval.set_text(f'Percent of observations within CI: {ci_ratio*100:.2f}%')\n",
    "        return self.mean, self.credible_interval, self.num_samples"
   ]
  },
  {
   "cell_type": "markdown",
   "metadata": {},
   "source": [
    "### Implementacja z rozkładem sprzężonym na $\\pmb{\\beta}$ i znanym $\\alpha$ oraz $\\lambda$"
   ]
  },
  {
   "cell_type": "markdown",
   "metadata": {},
   "source": [
    "### Zadanie 1 (2pkt)\n",
    "W klasie poniżej zaimplementuj metodę `predict` tak by zwracała rozkład predykcyjny $Y$ dla zadanych danych wejściowych `x`. Wszystkie potrzebne wzory to $(2)$ i $(3)$, natomiast wszystkie potrzebne, nieznane parametry modelu zostały przypisane do zmiennych w konstruktorze oraz metodzie `fit`.\n",
    "\n",
    "UWAGA: dodaj wyraz wolny do średniej"
   ]
  },
  {
   "cell_type": "code",
   "execution_count": 13,
   "metadata": {
    "deletable": false,
    "nbgrader": {
     "cell_type": "code",
     "checksum": "079d3f3f14211a605df64f385056a163",
     "grade": true,
     "grade_id": "predictive_distribution",
     "locked": false,
     "points": 2,
     "schema_version": 3,
     "solution": true,
     "task": false
    }
   },
   "outputs": [],
   "source": [
    "from scipy import stats\n",
    "\n",
    "class ConjugateBayesLinReg:\n",
    "\n",
    "    def __init__(self, n_features, alpha, lmbda, intercept=0):\n",
    "        self.n_features = n_features\n",
    "        self.alpha = alpha\n",
    "        self.lmbda = lmbda\n",
    "        self.mean = np.zeros(n_features)\n",
    "        self.cov_inv = np.identity(n_features) * alpha\n",
    "        self.cov = np.linalg.inv(self.cov_inv)\n",
    "        self.intercept = intercept\n",
    "\n",
    "    def fit(self, x, y):\n",
    "        \n",
    "        # If x and y are singletons, then we coerce them to a batch of length 1\n",
    "        x = np.atleast_2d(x)\n",
    "        y = np.atleast_1d(y)\n",
    "\n",
    "        # Update the inverse covariance matrix (Bishop eq. 3.51)\n",
    "        cov_inv = self.cov_inv + self.lmbda * x.T @ x\n",
    "\n",
    "        # Update the mean vector (Bishop eq. 3.50)\n",
    "        cov = np.linalg.inv(cov_inv)\n",
    "        mean = cov @ (self.cov_inv @ self.mean + self.lmbda * y @ x)\n",
    "\n",
    "        self.cov_inv = cov_inv\n",
    "        self.cov = cov\n",
    "        self.mean = mean\n",
    "\n",
    "\n",
    "    def predict(self, x):\n",
    "        '''Metoda zwraca rozkład predykcyjny zmiennej niezależnej na bazie bieżących parametrów modelu.'''\n",
    "        # If x and y are singletons, then we coerce them to a batch of length 1\n",
    "        x = np.atleast_2d(x)\n",
    "        \n",
    "        y_pred_mean = x @ self.mean + self.intercept\n",
    "        y_pred_var = np.diag((1/self.lmbda) + x @ self.cov @ x.T)\n",
    "        # Drop a dimension from the mean and variance in case x and y were singletons\n",
    "        y_pred_mean = np.squeeze(y_pred_mean)\n",
    "        y_pred_var = np.squeeze(y_pred_var)\n",
    "\n",
    "        return stats.norm(loc=y_pred_mean, scale=y_pred_var ** .5)\n",
    "\n",
    "    @property\n",
    "    def weights_dist(self):\n",
    "        return stats.multivariate_normal(mean=self.mean, cov=self.cov)"
   ]
  },
  {
   "cell_type": "code",
   "execution_count": null,
   "metadata": {},
   "outputs": [],
   "source": [
    "fig, ax = plt.subplots(figsize=(16, 8))\n",
    "ud = UpdateBayesianLinearRegression(\n",
    "    ax,\n",
    "    model=ConjugateBayesLinReg(n_features=len(features), alpha=.3, lmbda=1),\n",
    "    X_test_with_cat=test_data[features+['Species']].to_numpy(),\n",
    "    x_idx=1,\n",
    "    x_label=\"Length3\",\n",
    "    y_label=\"Weight\",\n",
    "    category_idx=-1,\n",
    "    y_test=test_data[target],\n",
    ")\n",
    "\n",
    "anim = FuncAnimation(\n",
    "    fig, \n",
    "    ud,\n",
    "    fargs=(\n",
    "        train_data[features].to_numpy(),\n",
    "        train_data[target].to_numpy(),\n",
    "        test_data[features].sort_values(by=features[ud.x_idx], axis=0).to_numpy(),\n",
    "        test_data[[target, features[ud.x_idx]]].sort_values(by=features[ud.x_idx], axis=0)[target].to_numpy()\n",
    "    ),\n",
    "    frames=train_data.shape[0],\n",
    "    interval=100,\n",
    "    blit=True,\n",
    ")\n",
    "plt.close()\n",
    "anim"
   ]
  },
  {
   "cell_type": "code",
   "execution_count": 16,
   "metadata": {},
   "outputs": [
    {
     "name": "stdout",
     "output_type": "stream",
     "text": [
      "{'Height': 1.0862281243648777,\n",
      " 'Length3': 2.7960213138028456,\n",
      " 'Width': 1.109668534622056,\n",
      " 'species_0': -0.17910669771904963,\n",
      " 'species_1': 0.10194490276828105,\n",
      " 'species_2': 0.261365637786497,\n",
      " 'species_3': -0.18130359991224054,\n",
      " 'species_4': 0.07624150094487447,\n",
      " 'species_5': -0.2461530853029501,\n",
      " 'species_6': 0.13430952784438688}\n",
      "array([[ 0.24667031, -0.13081177, -0.10277793,  0.04713826,  0.02911855,\n",
      "         0.01412368, -0.11700408,  0.00614219, -0.00217489,  0.00711556],\n",
      "       [-0.13081177,  0.43262431, -0.19006008, -0.1805213 , -0.06013925,\n",
      "         0.06120188,  0.12771946,  0.02174284,  0.04344136,  0.00840203],\n",
      "       [-0.10277793, -0.19006008,  0.22520651,  0.08077008,  0.02079129,\n",
      "        -0.05449351,  0.00175367, -0.01673434, -0.01852415, -0.01340347],\n",
      "       [ 0.04713826, -0.1805213 ,  0.08077008,  0.80568831,  0.47778094,\n",
      "         0.81035292,  0.49499441,  0.55398073,  0.48163996,  0.32374973],\n",
      "       [ 0.02911855, -0.06013925,  0.02079129,  0.47778094,  0.30299822,\n",
      "         0.51858843,  0.32007709,  0.3526548 ,  0.31172131,  0.20454694],\n",
      "       [ 0.01412368,  0.06120188, -0.05449351,  0.81035292,  0.51858843,\n",
      "         0.98931378,  0.63731075,  0.65837643,  0.58871251,  0.38195204],\n",
      "       [-0.11700408,  0.12771946,  0.00175367,  0.49499441,  0.32007709,\n",
      "         0.63731075,  0.48699352,  0.42690305,  0.3863347 ,  0.2459788 ],\n",
      "       [ 0.00614219,  0.02174284, -0.01673434,  0.55398073,  0.3526548 ,\n",
      "         0.65837643,  0.42690305,  0.45111044,  0.39675893,  0.25625006],\n",
      "       [-0.00217489,  0.04344136, -0.01852415,  0.48163996,  0.31172131,\n",
      "         0.58871251,  0.3863347 ,  0.39675893,  0.36734145,  0.227785  ],\n",
      "       [ 0.00711556,  0.00840203, -0.01340347,  0.32374973,  0.20454694,\n",
      "         0.38195204,  0.2459788 ,  0.25625006,  0.227785  ,  0.15779719]])\n"
     ]
    }
   ],
   "source": [
    "pprint(dict(zip(features, ud.model.mean)))\n",
    "pprint(ud.model.cov)"
   ]
  },
  {
   "cell_type": "markdown",
   "metadata": {},
   "source": [
    "### Implementacja z rozkładem sprzężonym na $\\pmb{\\beta}$ i nieznanym $\\alpha$ oraz $\\lambda$"
   ]
  },
  {
   "cell_type": "markdown",
   "metadata": {},
   "source": [
    "Jak wspomnieliśmy powyżej ta metoda może opierać się na:\n",
    "1. MLE na likelihoodzie (Evidence Maximization)\n",
    "   Wyprowadzenie (na podstawie Bishop) oraz implementację tego podejścia można znaleźć pod tym linkiem - [http://krasserm.github.io/2019/02/23/bayesian-linear-regression/](http://krasserm.github.io/2019/02/23/bayesian-linear-regression/)\n",
    "2. MAP\n",
    "   Rozkładem sprzężonym dla precision jest [rozkład Gamma](https://en.wikipedia.org/wiki/Gamma_distribution), który zależnie od parametrów preferuje małe bądź większe wartości. Implementacja tego podejścia jest dostępna w pakiecie `sklearn` pod nazwą [`sklearn.linear_model.BayesianRidge`](https://scikit-learn.org/stable/modules/generated/sklearn.linear_model.BayesianRidge.html#sklearn.linear_model.BayesianRidge). Wykorzystamy ją tutaj wraz z omówieniem parametryzacji.\n",
    "   \n",
    "   UWAGA: tutaj $\\lambda$ i $\\alpha$ są zamienione!"
   ]
  },
  {
   "cell_type": "code",
   "execution_count": 17,
   "metadata": {},
   "outputs": [],
   "source": [
    "from sklearn.linear_model import BayesianRidge"
   ]
  },
  {
   "cell_type": "markdown",
   "metadata": {},
   "source": [
    "Wybrane parametry klasy `BayesianRidge`:\n",
    ">   - `n_iter`: int, default=300\n",
    ">\n",
    ">        Maximum number of iterations. Should be greater than or equal to 1.\n",
    ">   - `tol`: float, default=1e-3\n",
    ">\n",
    ">        Stop the algorithm if w has converged.\n",
    ">   - `alpha_1`: float, default=1e-6\n",
    ">\n",
    ">        Hyper-parameter : shape parameter for the Gamma distribution prior over the alpha parameter.\n",
    ">   - `alpha_2`: float, default=1e-6\n",
    ">\n",
    ">        Hyper-parameter : inverse scale parameter (rate parameter) for the Gamma distribution prior over the alpha parameter.\n",
    ">   - `lambda_1`: float, default=1e-6\n",
    ">\n",
    ">        Hyper-parameter : shape parameter for the Gamma distribution prior over the lambda parameter.\n",
    ">   - `lambda_2`: float, default=1e-6\n",
    ">\n",
    ">        Hyper-parameter : inverse scale parameter (rate parameter) for the Gamma distribution prior over the lambda parameter.\n",
    ">   - `alpha_init: float, default=None\n",
    ">\n",
    ">        Initial value for alpha (precision of the noise). If not set, alpha_init is 1/Var(y).\n",
    ">\n",
    ">            New in version 0.22.\n",
    ">\n",
    ">   - `lambda_init`: float, default=None\n",
    ">\n",
    ">        Initial value for lambda (precision of the weights). If not set, lambda_init is 1.\n",
    ">\n",
    ">            New in version 0.22.\n",
    ">\n",
    ">   - `fit_intercept`: bool, default=True\n",
    ">\n",
    ">        Whether to calculate the intercept for this model. The intercept is not treated as a probabilistic parameter and thus has no associated variance. If set to False, no intercept will be used in calculations (i.e. data is expected to be centered)."
   ]
  },
  {
   "cell_type": "markdown",
   "metadata": {},
   "source": [
    "Ta implementacja nie wspiera inkrementalnego przetwarzania (w `sklearn` metody działające w trybie online posiadają metodę `partial_fit`), więc w każdym kroku będziemy wykorzystywać narastające okno danych. Ponadto jako inicjalną wartość $\\lambda$ i $\\alpha$ będziemy podawać estymatę z poprzedniego okna."
   ]
  },
  {
   "cell_type": "code",
   "execution_count": 18,
   "metadata": {},
   "outputs": [],
   "source": [
    "class UpdateBayesianLinearRegressionInreasingWindow(UpdateBayesianLinearRegression):\n",
    "    def model_fit(self, i, X_train, y_train):\n",
    "        self.model.fit(X_train[:i, :], y_train[:i])"
   ]
  },
  {
   "cell_type": "markdown",
   "metadata": {},
   "source": [
    "Zdefiniujemy teraz klasę `FullConjugateBayesLinReg` na bazie implementacji z `sklearn` - sprametryzujemy ją zgodnie z naszą notacją."
   ]
  },
  {
   "cell_type": "code",
   "execution_count": 19,
   "metadata": {},
   "outputs": [],
   "source": [
    "from scipy import stats\n",
    "\n",
    "class FullConjugateBayesLinReg(ConjugateBayesLinReg):\n",
    "\n",
    "    def __init__(\n",
    "        self,\n",
    "        n_features,\n",
    "        n_iter=300,\n",
    "        tol=1.e-3,\n",
    "        alpha_shape=1.e-6, # non-informative prior \n",
    "        alpha_rate=1.e-6,\n",
    "        lmbda_shape=2, # mode=1 => standard normal posterior\n",
    "        lmbda_rate=1,\n",
    "        alpha_init=None,\n",
    "        lmbda_init=1,\n",
    "        fit_intercept=False\n",
    "    ):\n",
    "        self.n_iter = n_iter\n",
    "        self.tol = tol\n",
    "        self.alpha_shape = alpha_shape\n",
    "        self.alpha_rate = alpha_rate\n",
    "        self.lmbda_shape = lmbda_shape\n",
    "        self.lmbda_rate = lmbda_rate\n",
    "        self.alpha = alpha_init\n",
    "        self.lmbda = lmbda_init\n",
    "        self.fit_intercept = fit_intercept\n",
    "        \n",
    "        self.mean = np.zeros((n_features,))\n",
    "        self.cov = np.eye(n_features) / self.alpha\n",
    "        self.intercept = 0\n",
    "\n",
    "    def fit(self, x, y):\n",
    "        \n",
    "        # If x and y are singletons, then we coerce them to a batch of length 1\n",
    "        x = np.atleast_2d(x)\n",
    "        y = np.atleast_1d(y)\n",
    "\n",
    "        model = BayesianRidge(\n",
    "            n_iter=self.n_iter,\n",
    "            tol=self.tol,\n",
    "            alpha_1=self.lmbda_shape,\n",
    "            alpha_2=self.lmbda_rate,\n",
    "            lambda_1=self.alpha_shape,\n",
    "            lambda_2=self.alpha_rate,\n",
    "            alpha_init=self.lmbda,\n",
    "            lambda_init=self.alpha,\n",
    "            fit_intercept=self.fit_intercept,\n",
    "            normalize=False,\n",
    "        )\n",
    "        \n",
    "        model.fit(x, y)\n",
    "        \n",
    "        self.mean = model.coef_\n",
    "        self.cov = model.sigma_\n",
    "        self.alpha = model.lambda_\n",
    "        self.lmbda = model.alpha_\n",
    "        self.intercept = model.intercept_"
   ]
  },
  {
   "cell_type": "code",
   "execution_count": null,
   "metadata": {},
   "outputs": [],
   "source": [
    "fig, ax = plt.subplots(figsize=(16, 8))\n",
    "ud = UpdateBayesianLinearRegressionInreasingWindow(\n",
    "    ax,\n",
    "    model=FullConjugateBayesLinReg(n_features=len(features), alpha_init=.3, lmbda_init=1),\n",
    "    X_test_with_cat=test_data[features+['Species']].to_numpy(),\n",
    "    x_idx=1,\n",
    "    x_label=\"Length3\",\n",
    "    y_label=\"Weight\",\n",
    "    category_idx=-1,\n",
    "    y_test=test_data[target],\n",
    ")\n",
    "\n",
    "anim = FuncAnimation(\n",
    "    fig, \n",
    "    ud,\n",
    "    fargs=(\n",
    "        train_data[features].to_numpy(),\n",
    "        train_data[target].to_numpy(),\n",
    "        test_data[features].sort_values(by=features[ud.x_idx], axis=0).to_numpy(),\n",
    "        test_data[[target, features[ud.x_idx]]].sort_values(by=features[ud.x_idx], axis=0)[target].to_numpy()\n",
    "    ),\n",
    "    frames=train_data.shape[0],\n",
    "    interval=100,\n",
    "    blit=True,\n",
    ")\n",
    "plt.close()\n",
    "anim"
   ]
  },
  {
   "cell_type": "code",
   "execution_count": null,
   "metadata": {},
   "outputs": [],
   "source": [
    "pprint(dict(zip(features, ud.model.mean)))\n",
    "print('lambda:', ud.model.lmbda)\n",
    "print('alpha:', ud.model.alpha)\n",
    "pprint(ud.model.cov)"
   ]
  },
  {
   "cell_type": "markdown",
   "metadata": {},
   "source": [
    "## Zadanie 2"
   ]
  },
  {
   "cell_type": "markdown",
   "metadata": {},
   "source": [
    "Pewien student posiada samochód i dosyć często podróżuje z Wrocławia w Bieszczady. Jest oszczędny, więc wybiera drogę z pominięciem odcinków płatnych. Student (ani my) nie wie ile kilometrów ma ta droga, nie zna spalania swojego samochodu, a chciałby zaplanować budżet na pewną wyprawę. W ciągu ostatnich 10 podróży zanotował następujące dane:\n",
    "- pieniądze wydane na paliwo [PLN] - zkładamy, że we Wrocławiu jest na stacji z pustym bakiem i dojeżdża w góry na ostatnich oparach\n",
    "- średnia prędkość jazdy w danej podróży [km/h] - uwzględnia tylko czas przemieszczania się\n",
    "- liczba postojów podczas danej podróży - nie zanotował jednak ile postoje trwały\n",
    "- łączny czas podróży [h]\n",
    "\n",
    "W całym rozumowaniu będziemy mieć jedno, istotne i naciągane założenie - spalanie samochodu nie zależy od prędkości jazdy i nie musi być stałe w każdej podróży.\n",
    "\n",
    "Owy student podjął decyzję, że należy rzucić wszystko, zatankować samochód za **100 PLN** i **stając dwa razy** na kawę jechać **90km/h** aż do skończenia paliwa. O tej porze roku zachód słońca jest o godzinie 17:30. Ile **maksymalnie** godzin przed 17:30 powinien wyjechać żeby z 90% szansą zatrzymać się o tej porze, bądź póżniej?\n",
    "\n",
    "Zastosuj metody poznane na zajęciach aby wyznaczyć szukaną wartość."
   ]
  },
  {
   "cell_type": "code",
   "execution_count": 43,
   "metadata": {},
   "outputs": [
    {
     "data": {
      "text/html": [
       "<div>\n",
       "<style scoped>\n",
       "    .dataframe tbody tr th:only-of-type {\n",
       "        vertical-align: middle;\n",
       "    }\n",
       "\n",
       "    .dataframe tbody tr th {\n",
       "        vertical-align: top;\n",
       "    }\n",
       "\n",
       "    .dataframe thead th {\n",
       "        text-align: right;\n",
       "    }\n",
       "</style>\n",
       "<table border=\"1\" class=\"dataframe\">\n",
       "  <thead>\n",
       "    <tr style=\"text-align: right;\">\n",
       "      <th></th>\n",
       "      <th>money</th>\n",
       "      <th>speed</th>\n",
       "      <th>num_stops</th>\n",
       "      <th>time</th>\n",
       "    </tr>\n",
       "  </thead>\n",
       "  <tbody>\n",
       "    <tr>\n",
       "      <th>0</th>\n",
       "      <td>245.622776</td>\n",
       "      <td>103.635372</td>\n",
       "      <td>3</td>\n",
       "      <td>5.445866</td>\n",
       "    </tr>\n",
       "    <tr>\n",
       "      <th>1</th>\n",
       "      <td>233.260688</td>\n",
       "      <td>78.237048</td>\n",
       "      <td>1</td>\n",
       "      <td>6.684284</td>\n",
       "    </tr>\n",
       "    <tr>\n",
       "      <th>2</th>\n",
       "      <td>231.230264</td>\n",
       "      <td>118.704676</td>\n",
       "      <td>2</td>\n",
       "      <td>5.239483</td>\n",
       "    </tr>\n",
       "    <tr>\n",
       "      <th>3</th>\n",
       "      <td>268.520137</td>\n",
       "      <td>101.427849</td>\n",
       "      <td>2</td>\n",
       "      <td>6.215113</td>\n",
       "    </tr>\n",
       "    <tr>\n",
       "      <th>4</th>\n",
       "      <td>246.789517</td>\n",
       "      <td>53.266307</td>\n",
       "      <td>4</td>\n",
       "      <td>11.231389</td>\n",
       "    </tr>\n",
       "    <tr>\n",
       "      <th>5</th>\n",
       "      <td>237.886947</td>\n",
       "      <td>94.934671</td>\n",
       "      <td>4</td>\n",
       "      <td>6.285680</td>\n",
       "    </tr>\n",
       "    <tr>\n",
       "      <th>6</th>\n",
       "      <td>246.226771</td>\n",
       "      <td>68.733270</td>\n",
       "      <td>5</td>\n",
       "      <td>9.192864</td>\n",
       "    </tr>\n",
       "    <tr>\n",
       "      <th>7</th>\n",
       "      <td>194.570072</td>\n",
       "      <td>85.653516</td>\n",
       "      <td>5</td>\n",
       "      <td>5.992770</td>\n",
       "    </tr>\n",
       "    <tr>\n",
       "      <th>8</th>\n",
       "      <td>230.535203</td>\n",
       "      <td>96.105184</td>\n",
       "      <td>4</td>\n",
       "      <td>7.258456</td>\n",
       "    </tr>\n",
       "    <tr>\n",
       "      <th>9</th>\n",
       "      <td>216.144688</td>\n",
       "      <td>69.252206</td>\n",
       "      <td>2</td>\n",
       "      <td>7.525162</td>\n",
       "    </tr>\n",
       "  </tbody>\n",
       "</table>\n",
       "</div>"
      ],
      "text/plain": [
       "        money       speed  num_stops       time\n",
       "0  245.622776  103.635372          3   5.445866\n",
       "1  233.260688   78.237048          1   6.684284\n",
       "2  231.230264  118.704676          2   5.239483\n",
       "3  268.520137  101.427849          2   6.215113\n",
       "4  246.789517   53.266307          4  11.231389\n",
       "5  237.886947   94.934671          4   6.285680\n",
       "6  246.226771   68.733270          5   9.192864\n",
       "7  194.570072   85.653516          5   5.992770\n",
       "8  230.535203   96.105184          4   7.258456\n",
       "9  216.144688   69.252206          2   7.525162"
      ]
     },
     "execution_count": 43,
     "metadata": {},
     "output_type": "execute_result"
    }
   ],
   "source": [
    "df = pd.read_pickle('./data/fuel.pkl')\n",
    "df"
   ]
  },
  {
   "cell_type": "markdown",
   "metadata": {},
   "source": [
    "### Zadanie 2.1 (2 pkt) \n",
    "W komórce poniżej przygotuj dane z `df` do zaaplikowania następującego modelu liniowego:\n",
    "\\begin{equation}\n",
    "\\text{time} = \n",
    "\\frac{\\text{money}}{\\text{speed}} * \\text{distance_for_money_unit} + \\text{num_stops} * \\text{stop_time},\n",
    "\\end{equation}\n",
    "\n",
    "gdzie:\n",
    "- $\\text{distance_for_money_unit}$ to współczynnik odpowiadający za dystans przejechany za daną kwotę\n",
    "- $\\text{stop_time}$ to współczynnik odpowiadający za czas spędzony na postoju\n",
    "\n",
    "1. Utwórz zmienną `'money/speed'` w zbiorze danych\n",
    "2. Dokonaj standaryzacji zmiennych niezależnych, które będą wykorzystane w modelu\n",
    "3. Wycentruj zmienną niezależną i zapisz jej średnią pod zmienną `y_mean`"
   ]
  },
  {
   "cell_type": "code",
   "execution_count": 44,
   "metadata": {
    "deletable": false,
    "nbgrader": {
     "cell_type": "code",
     "checksum": "1de9a25a97e2ccbe42be6730a30e646a",
     "grade": true,
     "grade_id": "data_preparation",
     "locked": false,
     "points": 2,
     "schema_version": 3,
     "solution": true,
     "task": false
    }
   },
   "outputs": [],
   "source": [
    "features = [\n",
    "    'money/speed',\n",
    "    'num_stops'\n",
    "]\n",
    "target = 'time'\n",
    "scaler = StandardScaler()\n",
    "y_mean = None\n",
    "\n",
    "df['money/speed'] = df['money']/df['speed']\n",
    "df[features] = scaler.fit_transform(df[features])\n",
    "y_mean = df[target].mean()\n",
    "df[target] = df[target] - y_mean\n",
    "# TU WPISZ KOD\n",
    "#raise NotImplementedError()"
   ]
  },
  {
   "cell_type": "markdown",
   "metadata": {},
   "source": [
    "### Zadanie 2.2 (1pkt)\n",
    "W komórce poniżej zainicjalizuj wybrany model Bayesowskiej Regresji Liniowej pod zmienną `fuel_model` i wykorzystaj go w animacji inkrementacyjnego uczenia - animacja jest w pełni przygotowana."
   ]
  },
  {
   "cell_type": "code",
   "execution_count": null,
   "metadata": {
    "deletable": false,
    "nbgrader": {
     "cell_type": "code",
     "checksum": "f94611d1285813cda69800e93cf2cf29",
     "grade": true,
     "grade_id": "fuel_modelb",
     "locked": false,
     "points": 0,
     "schema_version": 3,
     "solution": true,
     "task": false
    }
   },
   "outputs": [],
   "source": [
    "fuel_model = ConjugateBayesLinReg(n_features=len(features), alpha=.3, lmbda=1)\n",
    "\n",
    "#raise NotImplementedError()\n",
    "\n",
    "fig, ax = plt.subplots(figsize=(16, 8))\n",
    "ud = UpdateBayesianLinearRegressionInreasingWindow(\n",
    "    ax,\n",
    "    model=fuel_model,\n",
    "    X_test_with_cat=df[features].to_numpy(),\n",
    "    x_idx=0,\n",
    "    x_label='money/speed',\n",
    "    y_label=\"Travel time\",\n",
    "    y_test=df[target],\n",
    ")\n",
    "\n",
    "anim = FuncAnimation(\n",
    "    fig, \n",
    "    ud,\n",
    "    fargs=(\n",
    "        df[features].to_numpy(),\n",
    "        df[target].to_numpy(),\n",
    "        df[features].sort_values(by=features[ud.x_idx], axis=0).to_numpy(),\n",
    "        df[[target, features[ud.x_idx]]].sort_values(by=features[ud.x_idx], axis=0)[target].to_numpy()\n",
    "    ),\n",
    "    frames=df.shape[0],\n",
    "    interval=100,\n",
    "    blit=True,\n",
    ")\n",
    "plt.close()\n",
    "anim"
   ]
  },
  {
   "cell_type": "markdown",
   "metadata": {},
   "source": [
    "### Dane testowe na podstawie treści zadania:\n",
    "- 100 PLN\n",
    "- 90km/h\n",
    "- 2 postoje"
   ]
  },
  {
   "cell_type": "code",
   "execution_count": 46,
   "metadata": {},
   "outputs": [],
   "source": [
    "test_data = np.array([100/90, 2]).reshape(1, -1)"
   ]
  },
  {
   "cell_type": "markdown",
   "metadata": {},
   "source": [
    "### Zadanie 2.3 (1pkt)\n",
    "\n",
    "Szukamy teraz wartości od, której $\\text{time}$ jest większy z prawdopobieństwem co najmniej 0.9 (90% szans na dojechanie). Równoważnie wartości, od której $\\text{time}$ jest mniejszy z prawdopobieństwem co najmniej 0.1. Czyli **kwantylu** rzędu $p=0.1$.\n",
    "\n",
    "$$P_X((-\\infty, x_p])) \\geqslant p \\iff P_X([x_p, \\infty))) \\geqslant 1-p$$\n",
    "\n",
    "Dla rozkładów z modułu `stats` pakietu `scipy` ta funkcjonalność zaimplementowana jest pod metodą `ppf`.\n",
    "\n",
    "Na podstawie rozkładu predykcyjnego dla danych testowych `test_data` oblicz maksymalną liczbę godzin (w sytemie dziesiętnym - 15min = 0.25h itd) zgodnie z treścią zadania i przypisz wartość do zmiennej `worst_case_time`.\n",
    "\n",
    "UWAGA: pamiętaj jakie przekształcenia były stosowane na zbiorze danych!"
   ]
  },
  {
   "cell_type": "code",
   "execution_count": 47,
   "metadata": {
    "deletable": false,
    "nbgrader": {
     "cell_type": "code",
     "checksum": "9f5ccfa649a7c45414cddcc85576627a",
     "grade": true,
     "grade_id": "worst_case_time",
     "locked": false,
     "points": 1,
     "schema_version": 3,
     "solution": true,
     "task": false
    }
   },
   "outputs": [
    {
     "data": {
      "text/plain": [
       "1.6532281696647662"
      ]
     },
     "execution_count": 47,
     "metadata": {},
     "output_type": "execute_result"
    }
   ],
   "source": [
    "from scipy.stats import norm\n",
    "worst_case_time = fuel_model.predict(scaler.transform(test_data)).ppf(0.1) + y_mean \n",
    "worst_case_time"
   ]
  },
  {
   "cell_type": "markdown",
   "metadata": {},
   "source": [
    "### Implementacja z dowolonym rozkładem na $\\pmb{\\beta}$, $\\alpha$ oraz $\\lambda$ z wykorzystaniem Variational Inference"
   ]
  },
  {
   "cell_type": "markdown",
   "metadata": {},
   "source": [
    "W sytuacji gdy chcemy operować na dowolnych rozkładach prior nie jesteśmy w stanie przeprowadzić dokładnej estymacji Bayesowskiej. Ewaluacja rozkładów posterior w sposób numeryczny jest w ogólności poza zasięgiem możliwości obliczeniowych. Rozwiązaniem tego problemu jest **przybliżone wnioskowanie Bayesowskie** (ang. *approximate Bayesian inference*), gdzie miedzy innymi możemy wymienić następujące metody:\n",
    "- Markov Chain Monte Carlo - poprzez błądzie losowe w oparciu o Markov Chain daje aproksymację skomplikowanych rozkładów ciągłych za pomocą techniki Monte Carlo\n",
    "- Expectation Maximization - w interacyjnej procedurze odszukuje lokalne optima parametrów dla MLE i MAP gdy model zależy od pewnych nieobserwowanych zmiennych\n",
    "- Variational Inference - problem maksymalizacji prawdopobieństwa brzegowego (Marginal Likelihood) jest przeniesiony na problem optymalizacji gradientowej na dolnym ograniczeniu likelihoodu - **Evidence Lower BOund** (ELBO)"
   ]
  },
  {
   "cell_type": "markdown",
   "metadata": {},
   "source": [
    "Biblioteka `pyro` wspiera MCMC oraz VI, a konkretnie rozszerzoną wersję Stochastic Variational Inference, która umożliwia przetwrzania batchowe - analogicznie do Stochastic Gradient Descent."
   ]
  }
 ],
 "metadata": {
  "kernelspec": {
   "display_name": "Python 3 (ipykernel)",
   "language": "python",
   "name": "python3"
  },
  "language_info": {
   "codemirror_mode": {
    "name": "ipython",
    "version": 3
   },
   "file_extension": ".py",
   "mimetype": "text/x-python",
   "name": "python",
   "nbconvert_exporter": "python",
   "pygments_lexer": "ipython3",
   "version": "3.9.7"
  },
  "pycharm": {
   "stem_cell": {
    "cell_type": "raw",
    "metadata": {
     "collapsed": false
    },
    "source": []
   }
  },
  "widgets": {
   "application/vnd.jupyter.widget-state+json": {
    "5659246d5b9b435f9118eb617efe8907": {
     "model_module": "@jupyter-widgets/base",
     "model_name": "LayoutModel",
     "state": {
      "_model_module": "@jupyter-widgets/base",
      "_model_module_version": "1.2.0",
      "_model_name": "LayoutModel",
      "_view_count": null,
      "_view_module": "@jupyter-widgets/base",
      "_view_module_version": "1.2.0",
      "_view_name": "LayoutView",
      "align_content": null,
      "align_items": null,
      "align_self": null,
      "border": null,
      "bottom": null,
      "display": null,
      "flex": null,
      "flex_flow": null,
      "grid_area": null,
      "grid_auto_columns": null,
      "grid_auto_flow": null,
      "grid_auto_rows": null,
      "grid_column": null,
      "grid_gap": null,
      "grid_row": null,
      "grid_template_areas": null,
      "grid_template_columns": null,
      "grid_template_rows": null,
      "height": null,
      "justify_content": null,
      "justify_items": null,
      "left": null,
      "margin": null,
      "max_height": null,
      "max_width": null,
      "min_height": null,
      "min_width": null,
      "object_fit": null,
      "object_position": null,
      "order": null,
      "overflow": null,
      "overflow_x": null,
      "overflow_y": null,
      "padding": null,
      "right": null,
      "top": null,
      "visibility": null,
      "width": null
     }
    },
    "5f1b20a7c4094faea6ae8ce0e6b5fccd": {
     "model_module": "@jupyter-widgets/base",
     "model_name": "LayoutModel",
     "state": {
      "_model_module": "@jupyter-widgets/base",
      "_model_module_version": "1.2.0",
      "_model_name": "LayoutModel",
      "_view_count": null,
      "_view_module": "@jupyter-widgets/base",
      "_view_module_version": "1.2.0",
      "_view_name": "LayoutView",
      "align_content": null,
      "align_items": null,
      "align_self": null,
      "border": null,
      "bottom": null,
      "display": null,
      "flex": null,
      "flex_flow": null,
      "grid_area": null,
      "grid_auto_columns": null,
      "grid_auto_flow": null,
      "grid_auto_rows": null,
      "grid_column": null,
      "grid_gap": null,
      "grid_row": null,
      "grid_template_areas": null,
      "grid_template_columns": null,
      "grid_template_rows": null,
      "height": null,
      "justify_content": null,
      "justify_items": null,
      "left": null,
      "margin": null,
      "max_height": null,
      "max_width": null,
      "min_height": null,
      "min_width": null,
      "object_fit": null,
      "object_position": null,
      "order": null,
      "overflow": null,
      "overflow_x": null,
      "overflow_y": null,
      "padding": null,
      "right": null,
      "top": null,
      "visibility": null,
      "width": null
     }
    },
    "862575bb29f546429f0b299cd479f9dd": {
     "model_module": "@jupyter-widgets/controls",
     "model_name": "IntSliderModel",
     "state": {
      "_dom_classes": [],
      "_model_module": "@jupyter-widgets/controls",
      "_model_module_version": "1.5.0",
      "_model_name": "IntSliderModel",
      "_view_count": null,
      "_view_module": "@jupyter-widgets/controls",
      "_view_module_version": "1.5.0",
      "_view_name": "IntSliderView",
      "continuous_update": true,
      "description": "nd",
      "description_tooltip": null,
      "disabled": false,
      "layout": "IPY_MODEL_5659246d5b9b435f9118eb617efe8907",
      "max": 136,
      "min": 10,
      "orientation": "horizontal",
      "readout": true,
      "readout_format": "d",
      "step": 5,
      "style": "IPY_MODEL_f36cc8e6aa084da5ae75614f7ee41d86",
      "value": 120
     }
    },
    "9d885940e72c492aa538a8e46c0dcb3f": {
     "model_module": "@jupyter-widgets/base",
     "model_name": "LayoutModel",
     "state": {
      "_model_module": "@jupyter-widgets/base",
      "_model_module_version": "1.2.0",
      "_model_name": "LayoutModel",
      "_view_count": null,
      "_view_module": "@jupyter-widgets/base",
      "_view_module_version": "1.2.0",
      "_view_name": "LayoutView",
      "align_content": null,
      "align_items": null,
      "align_self": null,
      "border": null,
      "bottom": null,
      "display": null,
      "flex": null,
      "flex_flow": null,
      "grid_area": null,
      "grid_auto_columns": null,
      "grid_auto_flow": null,
      "grid_auto_rows": null,
      "grid_column": null,
      "grid_gap": null,
      "grid_row": null,
      "grid_template_areas": null,
      "grid_template_columns": null,
      "grid_template_rows": null,
      "height": null,
      "justify_content": null,
      "justify_items": null,
      "left": null,
      "margin": null,
      "max_height": null,
      "max_width": null,
      "min_height": null,
      "min_width": null,
      "object_fit": null,
      "object_position": null,
      "order": null,
      "overflow": null,
      "overflow_x": null,
      "overflow_y": null,
      "padding": null,
      "right": null,
      "top": null,
      "visibility": null,
      "width": null
     }
    },
    "c1c3a2f2366b42af9bb58c43d493ae26": {
     "model_module": "@jupyter-widgets/controls",
     "model_name": "ButtonStyleModel",
     "state": {
      "_model_module": "@jupyter-widgets/controls",
      "_model_module_version": "1.5.0",
      "_model_name": "ButtonStyleModel",
      "_view_count": null,
      "_view_module": "@jupyter-widgets/base",
      "_view_module_version": "1.2.0",
      "_view_name": "StyleView",
      "button_color": null,
      "font_weight": ""
     }
    },
    "ccd5ad5fec1046219048fe94f0de2e66": {
     "model_module": "@jupyter-widgets/controls",
     "model_name": "ButtonModel",
     "state": {
      "_dom_classes": [],
      "_model_module": "@jupyter-widgets/controls",
      "_model_module_version": "1.5.0",
      "_model_name": "ButtonModel",
      "_view_count": null,
      "_view_module": "@jupyter-widgets/controls",
      "_view_module_version": "1.5.0",
      "_view_name": "ButtonView",
      "button_style": "",
      "description": "Run Interact",
      "disabled": false,
      "icon": "",
      "layout": "IPY_MODEL_5f1b20a7c4094faea6ae8ce0e6b5fccd",
      "style": "IPY_MODEL_c1c3a2f2366b42af9bb58c43d493ae26",
      "tooltip": ""
     }
    },
    "d336e7508d18440a88bb13a38aa1c60e": {
     "model_module": "@jupyter-widgets/output",
     "model_name": "OutputModel",
     "state": {
      "_dom_classes": [],
      "_model_module": "@jupyter-widgets/output",
      "_model_module_version": "1.0.0",
      "_model_name": "OutputModel",
      "_view_count": null,
      "_view_module": "@jupyter-widgets/output",
      "_view_module_version": "1.0.0",
      "_view_name": "OutputView",
      "layout": "IPY_MODEL_737ce1f572a44984b3bba09ad56f460b",
      "msg_id": "",
      "outputs": [
       {
        "image/png": "iVBORw0KGgoAAAANSUhEUgAABDkAAAOeCAYAAAAJMMvMAAAABHNCSVQICAgIfAhkiAAAAAlwSFlz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\nzUgAAAAASUVORK5CYII=\n",
        "metadata": {
         "tags": []
        },
        "output_type": "display_data",
        "text/plain": "<Figure size 1200x1000 with 4 Axes>"
       }
      ]
     }
    },
    "d80cc502745d44c7a1ba8da44212dd8b": {
     "model_module": "@jupyter-widgets/controls",
     "model_name": "VBoxModel",
     "state": {
      "_dom_classes": [
       "widget-interact"
      ],
      "_model_module": "@jupyter-widgets/controls",
      "_model_module_version": "1.5.0",
      "_model_name": "VBoxModel",
      "_view_count": null,
      "_view_module": "@jupyter-widgets/controls",
      "_view_module_version": "1.5.0",
      "_view_name": "VBoxView",
      "box_style": "",
      "children": [
       "IPY_MODEL_862575bb29f546429f0b299cd479f9dd",
       "IPY_MODEL_ccd5ad5fec1046219048fe94f0de2e66",
       "IPY_MODEL_d336e7508d18440a88bb13a38aa1c60e"
      ],
      "layout": "IPY_MODEL_9d885940e72c492aa538a8e46c0dcb3f"
     }
    },
    "f36cc8e6aa084da5ae75614f7ee41d86": {
     "model_module": "@jupyter-widgets/controls",
     "model_name": "SliderStyleModel",
     "state": {
      "_model_module": "@jupyter-widgets/controls",
      "_model_module_version": "1.5.0",
      "_model_name": "SliderStyleModel",
      "_view_count": null,
      "_view_module": "@jupyter-widgets/base",
      "_view_module_version": "1.2.0",
      "_view_name": "StyleView",
      "description_width": "",
      "handle_color": null
     }
    }
   }
  }
 },
 "nbformat": 4,
 "nbformat_minor": 4
}

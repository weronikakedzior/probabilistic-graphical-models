{
 "cells": [
  {
   "cell_type": "markdown",
   "metadata": {},
   "source": [
    "Przed oddaniem zadania upewnij się, że wszystko działa poprawnie.\n",
    "**Uruchom ponownie kernel** (z paska menu: Kernel$\\rightarrow$Restart) a następnie\n",
    "**wykonaj wszystkie komórki** (z paska menu: Cell$\\rightarrow$Run All).\n",
    "\n",
    "Upewnij się, że wypełniłeś wszystkie pola `TU WPISZ KOD` lub `TU WPISZ ODPOWIEDŹ`, oraz\n",
    "że podałeś swoje imię i nazwisko poniżej:"
   ]
  },
  {
   "cell_type": "code",
   "execution_count": 1,
   "metadata": {},
   "outputs": [],
   "source": [
    "NAME = \"Weronika Pawlak\""
   ]
  },
  {
   "cell_type": "markdown",
   "metadata": {},
   "source": [
    "---"
   ]
  },
  {
   "cell_type": "markdown",
   "metadata": {},
   "source": [
    "# Naiwny Bayes"
   ]
  },
  {
   "cell_type": "markdown",
   "metadata": {},
   "source": [
    "Model Naiwnego Bayesa jest jednym z najprostszych modeli grafowych. Zakłada on, że wszystkie obserwowane zmienne $X_1, X_2, \\ldots, X_N$ są warunkowo niezależne względem zmiennej $Y$ oraz, że jedyna zależność istnieje między zmienną $Y$ a zmiennymi $\\mathbf{X}$ (zobacz rysunek). "
   ]
  },
  {
   "cell_type": "code",
   "execution_count": 3,
   "metadata": {},
   "outputs": [
    {
     "data": {
      "image/png": "[encoded data removed]",
      "text/plain": [
       "<Figure size 432x288 with 1 Axes>"
      ]
     },
     "metadata": {},
     "output_type": "display_data"
    }
   ],
   "source": [
    "import networkx as nx\n",
    "    \n",
    "g = nx.DiGraph()\n",
    "g.add_edges_from([(\"Y\", \"X_1\"), (\"Y\", \"X_2\"), (\"Y\", \"$X_{N-1}$\"), (\"Y\", \"$X_N$\")])\n",
    "\n",
    "nx.draw(\n",
    "    g, \n",
    "    with_labels=True, \n",
    "    node_color=[\"gray\" if \"X\" in v else \"white\" for v in g.nodes()],\n",
    "    pos={\"Y\": (0, 0), \"X_1\": (-2, -1), \"X_2\": (-1, -1), \"$X_{N-1}$\": (1, -1), \"$X_N$\": (2, -1)},\n",
    "    edgecolors=\"black\",\n",
    "    node_size=2000,\n",
    ")"
   ]
  },
  {
   "cell_type": "markdown",
   "metadata": {},
   "source": [
    "## Naiwny klasyfikator Bayesa"
   ]
  },
  {
   "cell_type": "markdown",
   "metadata": {},
   "source": [
    "Naszym celem będzie rozwiązać zadanie klasyfikacji, gdzie klasa będzie reprezentowana przez zmienną $Y$ (zakładamy, że istnieje $K$ klas), natomiast atrybuty opisujące dane instancje to $X_1, X_2, \\ldots, X_N$ (wartości te mogą być zarówno ciągłe, jak i dyskretne). \n",
    "\n",
    "Dla konkretnej instancji opisanej $x_1, x_2, \\ldots, x_N$ poszukujemy jej rzeczywistej klasy $\\hat y$, którą uzyskujemy maksymalizując prawdopodobieństwo warunkowe klasy $y_k$ pod warunkiem danych $x_1, x_2, \\ldots, x_N$:\n",
    "\n",
    "$$\\tag{1}\\hat{y} = \\operatorname*{argmax}_{k \\in \\{1, 2, \\ldots, K\\}} \\mathbb{P}(y_k | x_1, x_2, \\ldots, x_N)$$"
   ]
  },
  {
   "cell_type": "markdown",
   "metadata": {},
   "source": [
    "Wykorzystując regułę Bayesa możemy to prawdopodobieństwo rozpisać jako:\n",
    "\n",
    "$$\\mathbb{P}(y_k|x_1, x_2, \\ldots, x_N) = \\frac{\\mathbb{P}(y_k)\\mathbb{P}(x_1, x_2, \\ldots, x_N | y_k)}{\\mathbb{P}(x_1, x_2, \\ldots, x_N)}$$\n",
    "\n",
    "Licznik tego ułamka możemy zapisać jako prawdopodbieństwo łączne:\n",
    "\n",
    "$$\\tag{2}\\mathbb{P}(y_k)\\mathbb{P}(x_1, x_2, \\ldots, x_N | y_k) = \\mathbb{P}(y_k, x_1, x_2, \\ldots, x_N)$$\n",
    "\n",
    "Dodatkowo możemy pominąć mianownik i zapisać, że prawdopodobieństwo $\\text{(1)}$ jest proporcjonalne do $\\text{(2)}$:\n",
    "\n",
    "$$\\mathbb{P}(y_k|x_1, x_2, \\ldots, x_N) \\propto \\mathbb{P}(y_k, x_1, x_2, \\ldots, x_N)$$\n",
    "\n",
    "Korzystając wielokrotnie z reguły łańcuchowej możemy dokonać faktoryzacji prawdopodobieństwa łącznego:\n",
    "\n",
    "$$\\tag{3}\n",
    "\\begin{align}\n",
    "\\mathbb{P}(y_k, x_1, x_2, \\ldots, x_N) & = \\mathbb{P}(x_1, x_2, \\ldots, x_N, y_k)\\\\\n",
    "& = \\mathbb{P}(x_1 | x_2, \\ldots, x_N, y_k)\\mathbb{P}(x_2, \\ldots, x_N, y_k) \\\\\n",
    "& \\ldots \\\\\n",
    "& = \\mathbb{P}(x_1 | x_2, \\ldots, x_N, y_k)\\mathbb{P}(x_2 | \\ldots, x_N, y_k) \\ldots \\mathbb{P}(x_{N-1}|x_N, y_k) \\mathbb{P}(x_N | y_k)\\mathbb{P}(y_k)\n",
    "\\end{align}\n",
    "$$\n",
    "\n",
    "\"Naiwność\" tego modelu zakłada, że zmienne $X_1, \\ldots, X_N$ są niezależne pod warunkiem $Y$, stąd:\n",
    "\n",
    "$$\\tag{4}\\mathbb{P}(x_i | x_{i+1}, x_{i+2}, \\ldots, x_N, y_k) = \\mathbb{P}(x_i|y_k)$$\n",
    "\n",
    "Aplikując $\\text{(4)}$ do $\\text{(3)}$ otrzymujemy:\n",
    "\n",
    "$$\\mathbb{P}(y_k|x_1, x_2, \\ldots, x_N) \\propto \\mathbb{P}(y_k, x_1, x_2, \\ldots, x_N) = \\mathbb{P}(y_k)\\mathbb{P}(x_1|y_k)\\mathbb{P}(x_2|y_k)\\ldots\\mathbb{P}(x_N|y_k) = \\mathbb{P}(y_k)\\prod_{i=1}^{N}\\mathbb{P}(x_i|y_k)$$\n",
    "\n",
    "$$\\mathbb{P}(y_k|x_1, x_2, \\ldots, x_N) \\propto \\mathbb{P}(y_k)\\prod_{i=1}^{N}\\mathbb{P}(x_i|y_k)$$\n",
    "\n",
    "Ostatecznie otrzymujemy:\n",
    "\n",
    "$$\\hat y = \\operatorname*{argmax}_{k \\in \\{1, 2, \\ldots, K\\}} \\mathbb{P}(y_k)\\prod_{i=1}^{N}\\mathbb{P}(x_i|y_k)$$"
   ]
  },
  {
   "cell_type": "markdown",
   "metadata": {},
   "source": [
    "# Zmienne ciągłe\n",
    "Będziemy się tutaj posługiwać zbiorem danych Iris, który posiada tylko ciągłe atrybuty."
   ]
  },
  {
   "cell_type": "code",
   "execution_count": 4,
   "metadata": {},
   "outputs": [
    {
     "name": "stdout",
     "output_type": "stream",
     "text": [
      "Full (150, 4) (150,)\n",
      "Train (120, 4) (120,)\n",
      "Test (30, 4) (30,)\n"
     ]
    }
   ],
   "source": [
    "import pandas as pd\n",
    "from sklearn import datasets as sk_ds\n",
    "from sklearn import model_selection as sk_ms\n",
    "\n",
    "\n",
    "def load_iris_dataset():\n",
    "    X, y = sk_ds.load_iris(return_X_y=True)\n",
    "    X = pd.DataFrame(X, columns=[\n",
    "        \"sepal-length\",\n",
    "        \"sepal-width\",\n",
    "        \"petal-length\",\n",
    "        \"petal-width\",\n",
    "    ])\n",
    "\n",
    "    X_tr, X_te, y_tr, y_te = sk_ms.train_test_split(X, y, train_size=0.8, stratify=y)\n",
    "    print(\"Full\", X.shape, y.shape)\n",
    "    print(\"Train\", X_tr.shape, y_tr.shape)\n",
    "    print(\"Test\", X_te.shape, y_te.shape)\n",
    "\n",
    "    return {\n",
    "        \"train\": {\"X\": X_tr, \"y\": y_tr},\n",
    "        \"test\": {\"X\": X_te, \"y\": y_te},\n",
    "    }\n",
    "\n",
    "\n",
    "iris = load_iris_dataset()"
   ]
  },
  {
   "cell_type": "code",
   "execution_count": 5,
   "metadata": {},
   "outputs": [
    {
     "data": {
      "text/html": [
       "<div>\n",
       "<style scoped>\n",
       "    .dataframe tbody tr th:only-of-type {\n",
       "        vertical-align: middle;\n",
       "    }\n",
       "\n",
       "    .dataframe tbody tr th {\n",
       "        vertical-align: top;\n",
       "    }\n",
       "\n",
       "    .dataframe thead th {\n",
       "        text-align: right;\n",
       "    }\n",
       "</style>\n",
       "<table border=\"1\" class=\"dataframe\">\n",
       "  <thead>\n",
       "    <tr style=\"text-align: right;\">\n",
       "      <th></th>\n",
       "      <th>sepal-length</th>\n",
       "      <th>sepal-width</th>\n",
       "      <th>petal-length</th>\n",
       "      <th>petal-width</th>\n",
       "    </tr>\n",
       "  </thead>\n",
       "  <tbody>\n",
       "    <tr>\n",
       "      <th>87</th>\n",
       "      <td>6.3</td>\n",
       "      <td>2.3</td>\n",
       "      <td>4.4</td>\n",
       "      <td>1.3</td>\n",
       "    </tr>\n",
       "    <tr>\n",
       "      <th>16</th>\n",
       "      <td>5.4</td>\n",
       "      <td>3.9</td>\n",
       "      <td>1.3</td>\n",
       "      <td>0.4</td>\n",
       "    </tr>\n",
       "    <tr>\n",
       "      <th>123</th>\n",
       "      <td>6.3</td>\n",
       "      <td>2.7</td>\n",
       "      <td>4.9</td>\n",
       "      <td>1.8</td>\n",
       "    </tr>\n",
       "    <tr>\n",
       "      <th>137</th>\n",
       "      <td>6.4</td>\n",
       "      <td>3.1</td>\n",
       "      <td>5.5</td>\n",
       "      <td>1.8</td>\n",
       "    </tr>\n",
       "    <tr>\n",
       "      <th>99</th>\n",
       "      <td>5.7</td>\n",
       "      <td>2.8</td>\n",
       "      <td>4.1</td>\n",
       "      <td>1.3</td>\n",
       "    </tr>\n",
       "  </tbody>\n",
       "</table>\n",
       "</div>"
      ],
      "text/plain": [
       "     sepal-length  sepal-width  petal-length  petal-width\n",
       "87            6.3          2.3           4.4          1.3\n",
       "16            5.4          3.9           1.3          0.4\n",
       "123           6.3          2.7           4.9          1.8\n",
       "137           6.4          3.1           5.5          1.8\n",
       "99            5.7          2.8           4.1          1.3"
      ]
     },
     "execution_count": 5,
     "metadata": {},
     "output_type": "execute_result"
    }
   ],
   "source": [
    "iris[\"train\"][\"X\"].head()"
   ]
  },
  {
   "cell_type": "code",
   "execution_count": 6,
   "metadata": {},
   "outputs": [
    {
     "data": {
      "text/plain": [
       "array([1, 0, 2, 2, 1, 0, 1, 0, 2, 0, 0, 1, 1, 0, 0, 0, 2, 2, 1, 1, 1, 1,\n",
       "       0, 0, 0, 1, 1, 2, 2, 1, 2, 0, 1, 0, 1, 0, 0, 0, 2, 2, 2, 2, 2, 1,\n",
       "       0, 1, 0, 1, 2, 1, 0, 2, 0, 1, 1, 0, 2, 1, 2, 1, 2, 2, 2, 0, 1, 2,\n",
       "       0, 1, 2, 2, 1, 0, 0, 1, 0, 0, 0, 0, 1, 1, 0, 2, 0, 2, 2, 2, 2, 1,\n",
       "       2, 2, 0, 2, 1, 1, 1, 0, 2, 1, 0, 1, 2, 2, 1, 0, 2, 2, 0, 1, 2, 1,\n",
       "       2, 0, 2, 0, 1, 1, 1, 0, 2, 0])"
      ]
     },
     "execution_count": 6,
     "metadata": {},
     "output_type": "execute_result"
    }
   ],
   "source": [
    "iris[\"train\"][\"y\"]"
   ]
  },
  {
   "cell_type": "markdown",
   "metadata": {},
   "source": [
    "### Implementacja w bibliotece `scikit-learn`\n",
    "Załóżmy, że wszystkie zmienne tutaj pochodzą z rozkładu normalnego - użyjemy klasy `GaussianNB` (model naiwnego Bayesa z rozkładami normalnymi)"
   ]
  },
  {
   "cell_type": "code",
   "execution_count": 7,
   "metadata": {},
   "outputs": [
    {
     "name": "stdout",
     "output_type": "stream",
     "text": [
      "train\n",
      "              precision    recall  f1-score   support\n",
      "\n",
      "           0       1.00      1.00      1.00        40\n",
      "           1       0.93      0.93      0.93        40\n",
      "           2       0.93      0.93      0.93        40\n",
      "\n",
      "    accuracy                           0.95       120\n",
      "   macro avg       0.95      0.95      0.95       120\n",
      "weighted avg       0.95      0.95      0.95       120\n",
      "\n",
      "test\n",
      "              precision    recall  f1-score   support\n",
      "\n",
      "           0       1.00      1.00      1.00        10\n",
      "           1       1.00      1.00      1.00        10\n",
      "           2       1.00      1.00      1.00        10\n",
      "\n",
      "    accuracy                           1.00        30\n",
      "   macro avg       1.00      1.00      1.00        30\n",
      "weighted avg       1.00      1.00      1.00        30\n",
      "\n"
     ]
    }
   ],
   "source": [
    "from sklearn.naive_bayes import GaussianNB\n",
    "from sklearn import metrics as sk_mtr\n",
    "\n",
    "\n",
    "clf_scikit = GaussianNB()\n",
    "clf_scikit.fit(X=iris[\"train\"][\"X\"], y=iris[\"train\"][\"y\"])\n",
    "\n",
    "for split in (\"train\", \"test\"):\n",
    "    print(split)\n",
    "    print(sk_mtr.classification_report(\n",
    "        y_true=iris[split][\"y\"],\n",
    "        y_pred=clf_scikit.predict(X=iris[split][\"X\"]),\n",
    "    ))"
   ]
  },
  {
   "cell_type": "markdown",
   "metadata": {},
   "source": [
    "### Implementacja w bibliotece `pyro`\n",
    "Poniżej zamieszczono przykładową implementację modelu naiwnego Baysa za pomocą biblioteki Pyro. Nie będziemy wchodzić w szczegóły, ale zachęcamy aby przeanalizować krok po kroku każdą z metod."
   ]
  },
  {
   "cell_type": "code",
   "execution_count": 8,
   "metadata": {},
   "outputs": [],
   "source": [
    "import pyro\n",
    "from pyro import distributions as dist\n",
    "import torch\n",
    "from torch.distributions import constraints\n",
    "\n",
    "pyro.enable_validation(True)\n",
    "\n",
    "\n",
    "from collections import defaultdict\n",
    "import matplotlib.pyplot as plt\n",
    "import pyro\n",
    "import torch\n",
    "from tqdm.auto import tqdm\n",
    "\n",
    "\n",
    "class GaussianNBClassifier:\n",
    "    def __init__(self, num_epochs=500, lr=1e-2):\n",
    "        self._num_epochs = num_epochs\n",
    "        self._lr = lr\n",
    "        \n",
    "        self._num_cls = None\n",
    "        \n",
    "        self._c_logits = None        \n",
    "        self._num_probs = None\n",
    "        \n",
    "    def fit(self, X, y):\n",
    "        pyro.clear_param_store()\n",
    "\n",
    "        svi = pyro.infer.SVI(\n",
    "            model=self._model,\n",
    "            guide=self._guide,\n",
    "            optim=pyro.optim.Adam({'lr': self._lr}),\n",
    "            loss=pyro.infer.Trace_ELBO(),\n",
    "        )\n",
    "\n",
    "        with tqdm(range(self._num_epochs)) as pbar:\n",
    "            for epoch in pbar:\n",
    "                loss = svi.step(X, y)\n",
    "\n",
    "                if epoch % 100 == 0:\n",
    "                    print(f\"Epoch: {epoch} Loss = {loss:.3f}\")\n",
    "\n",
    "    def predict(self, X):\n",
    "        pred = pyro.infer.Predictive(\n",
    "            model=self._model,\n",
    "            guide=self._guide,\n",
    "            num_samples=1,\n",
    "            return_sites=('logP(c|x)',),\n",
    "        )\n",
    "        log_pcx = pred(X)['logP(c|x)'].detach().squeeze(0).squeeze(0)\n",
    "        y_pred = torch.argmax(log_pcx, dim=-1)\n",
    "        return y_pred\n",
    "    \n",
    "    def _model(self, X, y=None):    \n",
    "        if y is not None:  # training mode\n",
    "            self._num_cls = max(y) + 1\n",
    "            \n",
    "            numerical_cols = X.columns.values\n",
    "                    \n",
    "            self._init_c_logits()\n",
    "            self._init_num_params(X, numerical_cols)\n",
    "            self._observe_numerical_features_given_classes(X, y)\n",
    "\n",
    "        self._observe_classes(X, y)\n",
    "        \n",
    "    def _guide(self, X, y=None):\n",
    "        pass  # This is meant to be an empty function\n",
    "    \n",
    "    def _init_c_logits(self):\n",
    "        self._c_logits = pyro.param(\n",
    "            'c_logits',\n",
    "            torch.ones(self._num_cls).div(self._num_cls),\n",
    "            constraint=constraints.simplex,\n",
    "        )\n",
    "        \n",
    "    def _init_num_params(self, X, numerical_cols):\n",
    "        self._num_probs = {\n",
    "            col: {\n",
    "                'mu': pyro.param(f'{col}_mu', torch.zeros(self._num_cls)),\n",
    "                'sigma': pyro.param(f'{col}_sigma', torch.ones(self._num_cls)),\n",
    "            }\n",
    "            for col in numerical_cols\n",
    "        }\n",
    "        \n",
    "    def _observe_numerical_features_given_classes(self, X, y):\n",
    "        for c in range(self._num_cls):\n",
    "            x_c = X[y==c]\n",
    "            with pyro.plate(f'data-numerical-{c}', x_c.shape[0]):\n",
    "                for nc, v in self._num_probs.items():\n",
    "                    pyro.sample(\n",
    "                        f'P(x_{nc}|c={c})', \n",
    "                        dist.Normal(v['mu'][c], v['sigma'][c]),\n",
    "                        obs=torch.tensor(x_c[nc].values),\n",
    "                    )\n",
    "                    \n",
    "    def _get_log_likelihood(self, X):\n",
    "        log_lk = []\n",
    "        \n",
    "        for c in range(self._num_cls):\n",
    "            lps = []\n",
    "            \n",
    "            lps.extend([\n",
    "                dist.Normal(v['mu'][c], v['sigma'][c]).log_prob(torch.tensor(X[nc].values))\n",
    "                for nc, v in self._num_probs.items()\n",
    "            ])\n",
    "\n",
    "            log_lk.append(torch.stack(lps).sum(dim=0))\n",
    "            \n",
    "        return torch.stack(log_lk).t()\n",
    "    \n",
    "    def _observe_classes(self, X, y):\n",
    "        if y is not None:\n",
    "            y = torch.tensor(y)\n",
    "        \n",
    "        log_lk = self._get_log_likelihood(X)\n",
    "\n",
    "        log_pcx = pyro.deterministic('logP(c|x)', self._c_logits.log() + log_lk)\n",
    "        \n",
    "        with pyro.plate('data-pred', X.shape[0]):    \n",
    "            pyro.sample(\n",
    "                'c',\n",
    "                dist.Categorical(logits=log_pcx),\n",
    "                obs=y,\n",
    "            )"
   ]
  },
  {
   "cell_type": "code",
   "execution_count": 9,
   "metadata": {},
   "outputs": [
    {
     "data": {
      "application/vnd.jupyter.widget-view+json": {
       "model_id": "9c19805f97504617a21967cc1418877e",
       "version_major": 2,
       "version_minor": 0
      },
      "text/plain": [
       "HBox(children=(FloatProgress(value=0.0, max=1000.0), HTML(value='')))"
      ]
     },
     "metadata": {},
     "output_type": "display_data"
    },
    {
     "name": "stdout",
     "output_type": "stream",
     "text": [
      "Epoch: 0 Loss = 4360.764\n",
      "Epoch: 100 Loss = 1505.592\n",
      "Epoch: 200 Loss = 1056.422\n",
      "Epoch: 300 Loss = 825.529\n",
      "Epoch: 400 Loss = 669.545\n",
      "Epoch: 500 Loss = 570.902\n",
      "Epoch: 600 Loss = 524.511\n",
      "Epoch: 700 Loss = 484.184\n",
      "Epoch: 800 Loss = 443.606\n",
      "Epoch: 900 Loss = 393.908\n",
      "\n",
      "train\n",
      "              precision    recall  f1-score   support\n",
      "\n",
      "           0       1.00      1.00      1.00        40\n",
      "           1       0.90      0.95      0.93        40\n",
      "           2       0.95      0.90      0.92        40\n",
      "\n",
      "    accuracy                           0.95       120\n",
      "   macro avg       0.95      0.95      0.95       120\n",
      "weighted avg       0.95      0.95      0.95       120\n",
      "\n",
      "test\n",
      "              precision    recall  f1-score   support\n",
      "\n",
      "           0       1.00      1.00      1.00        10\n",
      "           1       1.00      1.00      1.00        10\n",
      "           2       1.00      1.00      1.00        10\n",
      "\n",
      "    accuracy                           1.00        30\n",
      "   macro avg       1.00      1.00      1.00        30\n",
      "weighted avg       1.00      1.00      1.00        30\n",
      "\n"
     ]
    }
   ],
   "source": [
    "clf_pyro = GaussianNBClassifier(num_epochs=1000)\n",
    "clf_pyro.fit(X=iris[\"train\"][\"X\"], y=iris[\"train\"][\"y\"])\n",
    "\n",
    "\n",
    "for split in (\"train\", \"test\"):\n",
    "    print(split)\n",
    "    print(sk_mtr.classification_report(\n",
    "        y_true=iris[split][\"y\"],\n",
    "        y_pred=clf_pyro.predict(X=iris[split][\"X\"]),\n",
    "    ))"
   ]
  },
  {
   "cell_type": "markdown",
   "metadata": {},
   "source": [
    "### Implementacja w bibliotece `pgmpy`"
   ]
  },
  {
   "cell_type": "markdown",
   "metadata": {},
   "source": [
    "## Zadanie 1 (0.75 pkt)\n",
    "\n",
    "Zaimplementuj funkcję `discretize_data`, która dokona dyskretyzacji (np. `KBinsDiscretizer`) zmiennych ciągłych w zadanym zbiorze danych. Zmienne kategoryczne/dyskretne nie powinny zostać zmienione. "
   ]
  },
  {
   "cell_type": "code",
   "execution_count": 10,
   "metadata": {
    "deletable": false,
    "nbgrader": {
     "cell_type": "code",
     "checksum": "83ca6cd2bf6ae0088a0c7a0a3cc2a742",
     "grade": true,
     "grade_id": "discretize-data",
     "locked": false,
     "points": 0.75,
     "schema_version": 3,
     "solution": true,
     "task": false
    }
   },
   "outputs": [],
   "source": [
    "from copy import deepcopy\n",
    "from sklearn.preprocessing import KBinsDiscretizer\n",
    "\n",
    "\n",
    "def discretize_data(dataset: dict, n_bins: int) -> dict:\n",
    "    _dataset = deepcopy(dataset)\n",
    "    \n",
    "    X_train = _dataset[\"train\"][\"X\"]\n",
    "    X_test = _dataset[\"test\"][\"X\"]\n",
    "    \n",
    "    discrete_cols = X_train.select_dtypes('category').columns.values\n",
    "    continuous_cols = [c for c in X_train.columns if c not in discrete_cols]\n",
    "    est = KBinsDiscretizer(n_bins=n_bins, encode='ordinal', strategy='uniform')\n",
    "    X_train[continuous_cols] = est.fit_transform(X_train[continuous_cols])\n",
    "    X_test[continuous_cols] = est.transform(X_test[continuous_cols])\n",
    "    _dataset[\"train\"][\"X\"] = X_train\n",
    "    _dataset[\"test\"][\"X\"] = X_test\n",
    "    # TU WPISZ KOD\n",
    "    #raise NotImplementedError()\n",
    "    \n",
    "    return _dataset"
   ]
  },
  {
   "cell_type": "markdown",
   "metadata": {},
   "source": [
    "## Zadanie 2 (0.4 pkt)\n",
    "\n",
    "Zaimplementuj funkcję `build_model`, która zbuduje model Naiwnego Bayesa na podstawie obiektu `BayesianModel` (nie wykorzytuj klasy `NaiveBayes` z pgmpy!)."
   ]
  },
  {
   "cell_type": "code",
   "execution_count": 11,
   "metadata": {
    "deletable": false,
    "nbgrader": {
     "cell_type": "code",
     "checksum": "cc3c2d070fca34c96f6a8fee90a1daf8",
     "grade": true,
     "grade_id": "build-model",
     "locked": false,
     "points": 0.4,
     "schema_version": 3,
     "solution": true,
     "task": false
    }
   },
   "outputs": [],
   "source": [
    "from pgmpy.models import BayesianModel\n",
    "\n",
    "\n",
    "def build_model(dataset: dict) -> BayesianModel:\n",
    "    model = BayesianModel()\n",
    "    for x in list(dataset['train']['X'].columns):\n",
    "        model.add_edge('y', x)\n",
    "    return  model"
   ]
  },
  {
   "cell_type": "markdown",
   "metadata": {},
   "source": [
    "## Zadanie 3 (0.5 pkt)\n",
    "\n",
    "Zaimplementuj funkcję `fit_model`, która dopasuje parametry modelu Naiwnego Bayesa. Użyj dowolnej metody estymacji (np. Maximum Likelihood)"
   ]
  },
  {
   "cell_type": "code",
   "execution_count": 12,
   "metadata": {
    "deletable": false,
    "nbgrader": {
     "cell_type": "code",
     "checksum": "e0d6f2b245d2ef9edbc0a3dec8479578",
     "grade": true,
     "grade_id": "fit-model",
     "locked": false,
     "points": 0.5,
     "schema_version": 3,
     "solution": true,
     "task": false
    }
   },
   "outputs": [],
   "source": [
    "from pgmpy.estimators import MaximumLikelihoodEstimator\n",
    "def fit_model(model: BayesianModel, training_data: dict) -> BayesianModel:\n",
    "    _dataset = deepcopy(training_data['X'])\n",
    "    _dataset['y'] = training_data['y']\n",
    "    model.fit(_dataset, estimator=MaximumLikelihoodEstimator)\n",
    "    return model"
   ]
  },
  {
   "cell_type": "markdown",
   "metadata": {},
   "source": [
    "## Zadanie 4 (0.75 pkt)\n",
    "\n",
    "Zaimplementuj funkcję `predict_pgmpy`, która zwróci predykcje modelu Naiwnego Bayesa dla zadanych danych `X`. Użyj dowolnej metody inferencji (np. Variable Elimination)."
   ]
  },
  {
   "cell_type": "code",
   "execution_count": 13,
   "metadata": {
    "deletable": false,
    "nbgrader": {
     "cell_type": "code",
     "checksum": "bf83cd2aa629bf9cff640e1a81b62d7b",
     "grade": true,
     "grade_id": "predict-pgmpy",
     "locked": false,
     "points": 0.75,
     "schema_version": 3,
     "solution": true,
     "task": false
    }
   },
   "outputs": [],
   "source": [
    "from pgmpy.inference import VariableElimination\n",
    "def predict_pgmpy(model, X):\n",
    "    ve = VariableElimination(model)\n",
    "    y_pred = []\n",
    "    #print(X)\n",
    "    for idx, row in X.iterrows():\n",
    "        query = ve.map_query(['y'], dict(row),show_progress=False)\n",
    "        y_pred.append(query['y'])\n",
    "    return y_pred"
   ]
  },
  {
   "cell_type": "markdown",
   "metadata": {},
   "source": [
    "Wykorzystajmy teraz zaimplementowane funkcje, aby wyuczyć model Naiwnego Bayesa w pgmpy i sprawdźmy jakość działania modelu na zdyskretyzowanych danych. "
   ]
  },
  {
   "cell_type": "code",
   "execution_count": 15,
   "metadata": {},
   "outputs": [
    {
     "name": "stdout",
     "output_type": "stream",
     "text": [
      "train\n",
      "              precision    recall  f1-score   support\n",
      "\n",
      "           0       1.00      1.00      1.00        40\n",
      "           1       0.88      0.90      0.89        40\n",
      "           2       0.90      0.88      0.89        40\n",
      "\n",
      "    accuracy                           0.93       120\n",
      "   macro avg       0.93      0.92      0.92       120\n",
      "weighted avg       0.93      0.93      0.92       120\n",
      "\n",
      "test\n",
      "              precision    recall  f1-score   support\n",
      "\n",
      "           0       1.00      1.00      1.00        10\n",
      "           1       0.91      1.00      0.95        10\n",
      "           2       1.00      0.90      0.95        10\n",
      "\n",
      "    accuracy                           0.97        30\n",
      "   macro avg       0.97      0.97      0.97        30\n",
      "weighted avg       0.97      0.97      0.97        30\n",
      "\n"
     ]
    },
    {
     "name": "stderr",
     "output_type": "stream",
     "text": [
      "C:\\Users\\User\\Anaconda3\\lib\\site-packages\\pgmpy\\factors\\discrete\\DiscreteFactor.py:460: RuntimeWarning: invalid value encountered in true_divide\n",
      "  phi.values = phi.values / phi.values.sum()\n"
     ]
    }
   ],
   "source": [
    "iris_discrete = discretize_data(dataset=iris, n_bins=5)\n",
    "#print(iris_discrete[\"train\"]['y'])\n",
    "clf_pgmpy = build_model(dataset=iris_discrete)\n",
    "clf_pgmpy = fit_model(model=clf_pgmpy, training_data=iris_discrete[\"train\"])\n",
    "\n",
    "\n",
    "for split in (\"train\", \"test\"):\n",
    "    print(split)\n",
    "    print(sk_mtr.classification_report(\n",
    "        y_true=iris_discrete[split][\"y\"],\n",
    "        y_pred=predict_pgmpy(model=clf_pgmpy, X=iris_discrete[split][\"X\"]),\n",
    "    ))"
   ]
  },
  {
   "cell_type": "markdown",
   "metadata": {},
   "source": [
    "# Zmienne ciągłe i dyskretne\n",
    "Wykorzystaj zbiór CMC, aby sprawdzić wszystkie modele na zbiorze z cechami dyskretnymi i ciągłymi."
   ]
  },
  {
   "cell_type": "code",
   "execution_count": 16,
   "metadata": {},
   "outputs": [],
   "source": [
    "def load_cmc(N=-1):\n",
    "    # Source: https://archive.ics.uci.edu/ml/datasets/Contraceptive+Method+Choice\n",
    "    df = pd.read_csv('data/cmc.data', names=[\n",
    "        'age', # numerical\n",
    "        'w-education', # categorical\n",
    "        'h-education',  # categorical\n",
    "        'num-children',  # numerical\n",
    "        'w-religion',  # binary\n",
    "        'w-working',  # binary\n",
    "        'h-occupation',  # categorical\n",
    "        'sol-index',  # categorical\n",
    "        'media-exposure',  # binary\n",
    "        'contraceptive-method-used',  # class\n",
    "    ])\n",
    "\n",
    "    cat_cols = [\n",
    "        'w-education', # categorical\n",
    "        'h-education',  # categorical\n",
    "        'h-occupation',  # categorical\n",
    "        'sol-index',  # categorical\n",
    "    ]\n",
    "    bin_cols = [\n",
    "        'w-religion',  # binary\n",
    "        'w-working',  # binary\n",
    "        'media-exposure',  # binary\n",
    "    ]\n",
    "\n",
    "    for col in cat_cols:\n",
    "        df[col] = (df[col] - 1).astype('category')\n",
    "\n",
    "    for col in bin_cols:\n",
    "        df[col] = df[col].astype('category')    \n",
    "\n",
    "    if N != -1:\n",
    "        df = df.sample(\n",
    "            n=N,\n",
    "            weights='contraceptive-method-used',\n",
    "            random_state=2020,\n",
    "        )\n",
    "\n",
    "    X = df[df.columns[:-1]]\n",
    "    y = df['contraceptive-method-used'].values - 1\n",
    "\n",
    "    X_tr, X_te, y_tr, y_te = sk_ms.train_test_split(X, y, train_size=0.8, stratify=y)\n",
    "    print('Full', X.shape, y.shape)\n",
    "    print('Train', X_tr.shape, y_tr.shape)\n",
    "    print('Test', X_te.shape, y_te.shape)\n",
    "\n",
    "    return {\n",
    "        'train': {'X': X_tr.reset_index(drop=True), 'y': y_tr},\n",
    "        'test': {'X': X_te.reset_index(drop=True), 'y': y_te},\n",
    "    }"
   ]
  },
  {
   "cell_type": "code",
   "execution_count": 17,
   "metadata": {},
   "outputs": [
    {
     "name": "stdout",
     "output_type": "stream",
     "text": [
      "Full (200, 9) (200,)\n",
      "Train (160, 9) (160,)\n",
      "Test (40, 9) (40,)\n"
     ]
    }
   ],
   "source": [
    "cmc = load_cmc(N=200)"
   ]
  },
  {
   "cell_type": "code",
   "execution_count": 18,
   "metadata": {},
   "outputs": [
    {
     "data": {
      "text/html": [
       "<div>\n",
       "<style scoped>\n",
       "    .dataframe tbody tr th:only-of-type {\n",
       "        vertical-align: middle;\n",
       "    }\n",
       "\n",
       "    .dataframe tbody tr th {\n",
       "        vertical-align: top;\n",
       "    }\n",
       "\n",
       "    .dataframe thead th {\n",
       "        text-align: right;\n",
       "    }\n",
       "</style>\n",
       "<table border=\"1\" class=\"dataframe\">\n",
       "  <thead>\n",
       "    <tr style=\"text-align: right;\">\n",
       "      <th></th>\n",
       "      <th>age</th>\n",
       "      <th>w-education</th>\n",
       "      <th>h-education</th>\n",
       "      <th>num-children</th>\n",
       "      <th>w-religion</th>\n",
       "      <th>w-working</th>\n",
       "      <th>h-occupation</th>\n",
       "      <th>sol-index</th>\n",
       "      <th>media-exposure</th>\n",
       "    </tr>\n",
       "  </thead>\n",
       "  <tbody>\n",
       "    <tr>\n",
       "      <th>0</th>\n",
       "      <td>43</td>\n",
       "      <td>3</td>\n",
       "      <td>3</td>\n",
       "      <td>5</td>\n",
       "      <td>0</td>\n",
       "      <td>1</td>\n",
       "      <td>0</td>\n",
       "      <td>3</td>\n",
       "      <td>0</td>\n",
       "    </tr>\n",
       "    <tr>\n",
       "      <th>1</th>\n",
       "      <td>37</td>\n",
       "      <td>3</td>\n",
       "      <td>3</td>\n",
       "      <td>1</td>\n",
       "      <td>1</td>\n",
       "      <td>1</td>\n",
       "      <td>0</td>\n",
       "      <td>3</td>\n",
       "      <td>0</td>\n",
       "    </tr>\n",
       "    <tr>\n",
       "      <th>2</th>\n",
       "      <td>32</td>\n",
       "      <td>1</td>\n",
       "      <td>2</td>\n",
       "      <td>4</td>\n",
       "      <td>1</td>\n",
       "      <td>1</td>\n",
       "      <td>2</td>\n",
       "      <td>1</td>\n",
       "      <td>0</td>\n",
       "    </tr>\n",
       "    <tr>\n",
       "      <th>3</th>\n",
       "      <td>27</td>\n",
       "      <td>2</td>\n",
       "      <td>3</td>\n",
       "      <td>2</td>\n",
       "      <td>1</td>\n",
       "      <td>1</td>\n",
       "      <td>0</td>\n",
       "      <td>2</td>\n",
       "      <td>0</td>\n",
       "    </tr>\n",
       "    <tr>\n",
       "      <th>4</th>\n",
       "      <td>32</td>\n",
       "      <td>3</td>\n",
       "      <td>3</td>\n",
       "      <td>2</td>\n",
       "      <td>1</td>\n",
       "      <td>0</td>\n",
       "      <td>0</td>\n",
       "      <td>3</td>\n",
       "      <td>0</td>\n",
       "    </tr>\n",
       "  </tbody>\n",
       "</table>\n",
       "</div>"
      ],
      "text/plain": [
       "   age w-education h-education  num-children w-religion w-working  \\\n",
       "0   43           3           3             5          0         1   \n",
       "1   37           3           3             1          1         1   \n",
       "2   32           1           2             4          1         1   \n",
       "3   27           2           3             2          1         1   \n",
       "4   32           3           3             2          1         0   \n",
       "\n",
       "  h-occupation sol-index media-exposure  \n",
       "0            0         3              0  \n",
       "1            0         3              0  \n",
       "2            2         1              0  \n",
       "3            0         2              0  \n",
       "4            0         3              0  "
      ]
     },
     "execution_count": 18,
     "metadata": {},
     "output_type": "execute_result"
    }
   ],
   "source": [
    "cmc[\"train\"][\"X\"].head()"
   ]
  },
  {
   "cell_type": "code",
   "execution_count": 19,
   "metadata": {},
   "outputs": [
    {
     "data": {
      "text/plain": [
       "array([2, 0, 2, 2, 1, 2, 1, 1, 2, 2, 1, 1, 1, 2, 2, 2, 0, 2, 1, 2, 2, 2,\n",
       "       1, 2, 2, 1, 2, 0, 2, 2, 0, 0, 2, 1, 0, 0, 0, 1, 2, 2, 2, 0, 1, 2,\n",
       "       0, 2, 1, 1, 2, 2, 2, 2, 0, 2, 2, 2, 0, 2, 2, 0, 0, 0, 2, 0, 0, 1,\n",
       "       2, 2, 0, 0, 2, 2, 0, 0, 1, 2, 1, 0, 2, 1, 2, 2, 2, 0, 1, 2, 2, 2,\n",
       "       2, 1, 0, 2, 0, 1, 0, 2, 2, 2, 0, 2, 2, 2, 0, 2, 0, 2, 2, 2, 2, 0,\n",
       "       2, 0, 2, 1, 1, 0, 2, 1, 1, 0, 2, 0, 1, 2, 2, 1, 0, 2, 2, 0, 2, 1,\n",
       "       2, 2, 2, 0, 0, 1, 2, 2, 2, 0, 1, 2, 2, 1, 2, 2, 2, 1, 2, 0, 2, 1,\n",
       "       2, 0, 0, 1, 0, 2], dtype=int64)"
      ]
     },
     "execution_count": 19,
     "metadata": {},
     "output_type": "execute_result"
    }
   ],
   "source": [
    "cmc[\"train\"][\"y\"]"
   ]
  },
  {
   "cell_type": "markdown",
   "metadata": {},
   "source": [
    "### Implementacja w `pyro`\n",
    "Poprzednio użyta implementacja Naiwnego Bayesa w bibliotece Pyro nie obsługuje zmiennych dyskretnych. Poniżej zamieszczamy implementację obsługująca oba typy zmiennych. Zachęcamy do dokładniejszej analizy kodu."
   ]
  },
  {
   "cell_type": "code",
   "execution_count": 20,
   "metadata": {},
   "outputs": [],
   "source": [
    "class FullNBClassifier(GaussianNBClassifier):\n",
    "    def __init__(self, num_epochs=500, lr=1e-2):\n",
    "        super().__init__(num_epochs, lr)\n",
    "        self._cat_probs = None\n",
    "        \n",
    "    # fit() from base class\n",
    "    \n",
    "    # predict() from base class\n",
    "    \n",
    "    def _model(self, X, y=None):  # Override  \n",
    "        if y is not None:  # training mode\n",
    "            self._num_cls = max(y) + 1\n",
    "            \n",
    "            categorical_cols = X.select_dtypes('category').columns.values  # Changed\n",
    "            numerical_cols = [c for c in X.columns if c not in categorical_cols]  # Changed\n",
    "                    \n",
    "            self._init_c_logits()\n",
    "            self._init_num_params(X, numerical_cols)\n",
    "            self._init_cat_params(X, categorical_cols)  # Added \n",
    "            \n",
    "            self._observe_numerical_features_given_classes(X, y)\n",
    "            self._observe_categorical_features_given_classes(X, y)  # Added\n",
    "\n",
    "        self._observe_classes(X, y)\n",
    "        \n",
    "    # _guide() from base class\n",
    "    \n",
    "    # _init_c_logits() from base class\n",
    "        \n",
    "    # _init_num_params() from base class\n",
    "        \n",
    "    def _init_cat_params(self, X, categorical_cols):  # Add\n",
    "        self._cat_probs = {\n",
    "            col: pyro.param(\n",
    "                f'{col}_probs', \n",
    "                torch.ones([self._num_cls, len(X[col].cat.categories)]),\n",
    "                constraint=constraints.positive\n",
    "            )\n",
    "            for col in categorical_cols\n",
    "        }\n",
    "        \n",
    "    # _observe_numerical_features_given_classes from base class\n",
    "    \n",
    "    def _observe_categorical_features_given_classes(self, X, y):  # Add\n",
    "        for c in range(self._num_cls):\n",
    "            x_c = X[y==c]\n",
    "            with pyro.plate(f'data-categorical-{c}', x_c.shape[0]):\n",
    "                for cc, v in self._cat_probs.items():\n",
    "                    pyro.sample(\n",
    "                        f'P(x_{cc}|c={c})',\n",
    "                        dist.Categorical(logits=v[c]),\n",
    "                        obs=torch.tensor(x_c[cc].values)\n",
    "                    )\n",
    "                    \n",
    "    def _get_log_likelihood(self, X):  # Override\n",
    "        log_lk = []\n",
    "\n",
    "        for c in range(self._num_cls):\n",
    "            lps = []\n",
    "\n",
    "            lps.extend([\n",
    "                dist.Normal(v['mu'][c], v['sigma'][c]).log_prob(torch.tensor(X[nc].values))\n",
    "                for nc, v in self._num_probs.items()\n",
    "            ])\n",
    "            \n",
    "            # Added\n",
    "            lps.extend([\n",
    "                dist.Categorical(logits=v[c]).log_prob(torch.tensor(X[cc].values))\n",
    "                for cc, v in self._cat_probs.items()\n",
    "            ])\n",
    "            # End Added\n",
    "\n",
    "            log_lk.append(torch.stack(lps).sum(dim=0))\n",
    "\n",
    "        return torch.stack(log_lk).t()\n",
    "    \n",
    "    # _observe_classes() from base class"
   ]
  },
  {
   "cell_type": "markdown",
   "metadata": {},
   "source": [
    "## Zadanie 5 (0.2 + 0.2 + 0.2 pkt)\n",
    "\n",
    "Porównaj jakość działania różnych implementacji Naiwnego Bayesa (`scikit`, `pyro` oraz `pgmpy`)"
   ]
  },
  {
   "cell_type": "code",
   "execution_count": 21,
   "metadata": {
    "deletable": false,
    "nbgrader": {
     "cell_type": "code",
     "checksum": "019d0ab2583cabc885267a475ebde88e",
     "grade": true,
     "grade_id": "cmc-scikit",
     "locked": false,
     "points": 0.2,
     "schema_version": 3,
     "solution": true,
     "task": false
    }
   },
   "outputs": [
    {
     "name": "stdout",
     "output_type": "stream",
     "text": [
      "train\n",
      "              precision    recall  f1-score   support\n",
      "\n",
      "           0       0.56      0.21      0.31        43\n",
      "           1       0.23      0.97      0.37        34\n",
      "           2       1.00      0.01      0.02        83\n",
      "\n",
      "    accuracy                           0.27       160\n",
      "   macro avg       0.60      0.40      0.23       160\n",
      "weighted avg       0.72      0.27      0.17       160\n",
      "\n",
      "test\n",
      "              precision    recall  f1-score   support\n",
      "\n",
      "           0       0.67      0.40      0.50        10\n",
      "           1       0.25      0.89      0.39         9\n",
      "           2       1.00      0.10      0.17        21\n",
      "\n",
      "    accuracy                           0.35        40\n",
      "   macro avg       0.64      0.46      0.35        40\n",
      "weighted avg       0.75      0.35      0.30        40\n",
      "\n"
     ]
    }
   ],
   "source": [
    "# Scikit \n",
    "\n",
    "clf_scikit = GaussianNB()\n",
    "clf_scikit.fit(X=cmc[\"train\"][\"X\"], y=cmc[\"train\"][\"y\"])\n",
    "\n",
    "for split in (\"train\", \"test\"):\n",
    "    print(split)\n",
    "    print(sk_mtr.classification_report(\n",
    "        y_true=cmc[split][\"y\"],\n",
    "        y_pred=clf_scikit.predict(X=cmc[split][\"X\"]),\n",
    "    ))"
   ]
  },
  {
   "cell_type": "code",
   "execution_count": 22,
   "metadata": {
    "deletable": false,
    "nbgrader": {
     "cell_type": "code",
     "checksum": "3b41d15e0077afcae143499186f7d675",
     "grade": true,
     "grade_id": "cmc-pyro",
     "locked": false,
     "points": 0.2,
     "schema_version": 3,
     "solution": true,
     "task": false
    }
   },
   "outputs": [
    {
     "data": {
      "application/vnd.jupyter.widget-view+json": {
       "model_id": "d5830bf469c34cbb8cb2ca3ebbf7ef81",
       "version_major": 2,
       "version_minor": 0
      },
      "text/plain": [
       "HBox(children=(FloatProgress(value=0.0, max=500.0), HTML(value='')))"
      ]
     },
     "metadata": {},
     "output_type": "display_data"
    },
    {
     "name": "stdout",
     "output_type": "stream",
     "text": [
      "Epoch: 0 Loss = 91393.778\n",
      "Epoch: 100 Loss = 31051.077\n",
      "Epoch: 200 Loss = 20529.107\n",
      "Epoch: 300 Loss = 15777.805\n",
      "Epoch: 400 Loss = 12996.187\n",
      "\n",
      "train\n",
      "              precision    recall  f1-score   support\n",
      "\n",
      "           0       0.61      0.40      0.48        43\n",
      "           1       0.39      0.44      0.42        34\n",
      "           2       0.63      0.71      0.67        83\n",
      "\n",
      "    accuracy                           0.57       160\n",
      "   macro avg       0.54      0.52      0.52       160\n",
      "weighted avg       0.57      0.57      0.56       160\n",
      "\n",
      "test\n",
      "              precision    recall  f1-score   support\n",
      "\n",
      "           0       0.50      0.40      0.44        10\n",
      "           1       0.44      0.44      0.44         9\n",
      "           2       0.65      0.71      0.68        21\n",
      "\n",
      "    accuracy                           0.57        40\n",
      "   macro avg       0.53      0.52      0.52        40\n",
      "weighted avg       0.57      0.57      0.57        40\n",
      "\n"
     ]
    }
   ],
   "source": [
    "# Pyro\n",
    "clf_pyro = FullNBClassifier()\n",
    "clf_pyro.fit(X=cmc[\"train\"][\"X\"], y=cmc[\"train\"][\"y\"])\n",
    "\n",
    "\n",
    "for split in (\"train\", \"test\"):\n",
    "    print(split)\n",
    "    print(sk_mtr.classification_report(\n",
    "        y_true=cmc[split][\"y\"],\n",
    "        y_pred=clf_pyro.predict(X=cmc[split][\"X\"]),\n",
    "    ))"
   ]
  },
  {
   "cell_type": "code",
   "execution_count": 23,
   "metadata": {
    "deletable": false,
    "nbgrader": {
     "cell_type": "code",
     "checksum": "bd4fdb119913e9e8e594aa5c45300144",
     "grade": true,
     "grade_id": "cmc-pgmpy",
     "locked": false,
     "points": 0.2,
     "schema_version": 3,
     "solution": true,
     "task": false
    }
   },
   "outputs": [
    {
     "name": "stdout",
     "output_type": "stream",
     "text": [
      "train\n",
      "              precision    recall  f1-score   support\n",
      "\n",
      "           0       0.61      0.40      0.48        43\n",
      "           1       0.42      0.56      0.48        34\n",
      "           2       0.62      0.65      0.64        83\n",
      "\n",
      "    accuracy                           0.56       160\n",
      "   macro avg       0.55      0.53      0.53       160\n",
      "weighted avg       0.57      0.56      0.56       160\n",
      "\n",
      "test\n",
      "              precision    recall  f1-score   support\n",
      "\n",
      "           0       0.50      0.40      0.44        10\n",
      "           1       0.38      0.33      0.35         9\n",
      "           2       0.54      0.62      0.58        21\n",
      "\n",
      "    accuracy                           0.50        40\n",
      "   macro avg       0.47      0.45      0.46        40\n",
      "weighted avg       0.49      0.50      0.49        40\n",
      "\n"
     ]
    }
   ],
   "source": [
    "# Pgmpy\n",
    "# TU WPISZ KOD\n",
    "cmc_discrete = discretize_data(dataset=cmc, n_bins=5)\n",
    "clf_pgmpy = build_model(dataset=cmc_discrete)\n",
    "clf_pgmpy = fit_model(model=clf_pgmpy, training_data=cmc_discrete[\"train\"])\n",
    "\n",
    "\n",
    "for split in (\"train\", \"test\"):\n",
    "    print(split)\n",
    "    print(sk_mtr.classification_report(\n",
    "        y_true=cmc_discrete[split][\"y\"],\n",
    "        y_pred=predict_pgmpy(model=clf_pgmpy, X=cmc_discrete[split][\"X\"]),\n",
    "    ))"
   ]
  }
 ],
 "metadata": {
  "kernelspec": {
   "display_name": "Python 3",
   "language": "python",
   "name": "python3"
  },
  "language_info": {
   "codemirror_mode": {
    "name": "ipython",
    "version": 3
   },
   "file_extension": ".py",
   "mimetype": "text/x-python",
   "name": "python",
   "nbconvert_exporter": "python",
   "pygments_lexer": "ipython3",
   "version": "3.7.4"
  }
 },
 "nbformat": 4,
 "nbformat_minor": 4
}
